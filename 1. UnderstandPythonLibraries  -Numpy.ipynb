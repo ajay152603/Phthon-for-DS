{
  "nbformat": 4,
  "nbformat_minor": 0,
  "metadata": {
    "colab": {
      "name": "Untitled0.ipynb",
      "provenance": [],
      "collapsed_sections": [],
      "toc_visible": true,
      "authorship_tag": "ABX9TyOkn0Twtcyxm7jJvcDzDec4",
      "include_colab_link": true
    },
    "kernelspec": {
      "name": "python3",
      "display_name": "Python 3"
    }
  },
  "cells": [
    {
      "cell_type": "markdown",
      "metadata": {
        "id": "view-in-github",
        "colab_type": "text"
      },
      "source": [
        "<a href=\"https://colab.research.google.com/github/ajay152603/Python-for-DS/blob/master/1.%20UnderstandPythonLibraries%20%20-Numpy.ipynb\" target=\"_parent\"><img src=\"https://colab.research.google.com/assets/colab-badge.svg\" alt=\"Open In Colab\"/></a>"
      ]
    },
    {
      "cell_type": "markdown",
      "metadata": {
        "id": "Aa3j-uU4ECg4",
        "colab_type": "text"
      },
      "source": [
        "#** Basic understand of python libraries**  numpy"
      ]
    },
    {
      "cell_type": "markdown",
      "metadata": {
        "id": "7hpoQSvKEWxo",
        "colab_type": "text"
      },
      "source": [
        "# Numpy\n",
        "\n",
        "\n",
        "> this libarary is basically used with scalar, vector,array(can be more than 3 dimentions..etc\n",
        "\n",
        "\n",
        "> In short working with numbers\n",
        "\n",
        "\n",
        "\n"
      ]
    },
    {
      "cell_type": "code",
      "metadata": {
        "id": "6vn0uPmeEbSP",
        "colab_type": "code",
        "colab": {}
      },
      "source": [
        "#importing numpy\n",
        "import numpy as np"
      ],
      "execution_count": 0,
      "outputs": []
    },
    {
      "cell_type": "code",
      "metadata": {
        "id": "dJtceZduFjT-",
        "colab_type": "code",
        "colab": {}
      },
      "source": [
        "#list of array\n",
        "# a =np.array([[1,2,3], [2,4,7]])\n",
        "# print(a)\n",
        "# print(type(a))"
      ],
      "execution_count": 0,
      "outputs": []
    },
    {
      "cell_type": "code",
      "metadata": {
        "id": "0jjA5eo0GZMY",
        "colab_type": "code",
        "colab": {}
      },
      "source": [
        "# metrix of complex numbers\n",
        "# b = np.array( [[1,2,3],[2,3,4]], dtype = complex)\n",
        "# print(b)"
      ],
      "execution_count": 0,
      "outputs": []
    },
    {
      "cell_type": "code",
      "metadata": {
        "id": "7wFyxj9mGJno",
        "colab_type": "code",
        "outputId": "0275d6e6-bd06-4783-c550-1343b45b643f",
        "colab": {
          "base_uri": "https://localhost:8080/",
          "height": 67
        }
      },
      "source": [
        "#create a array which compaises of zeros\n",
        "a = np.zeros((3,2) , dtype = int)\n",
        "print( 'a = {}'.format(a))"
      ],
      "execution_count": 0,
      "outputs": [
        {
          "output_type": "stream",
          "text": [
            "a = [[0 0]\n",
            " [0 0]\n",
            " [0 0]]\n"
          ],
          "name": "stdout"
        }
      ]
    },
    {
      "cell_type": "code",
      "metadata": {
        "id": "8bQPY_zfFg9K",
        "colab_type": "code",
        "colab": {}
      },
      "source": [
        "# # # create an array of ones\n",
        "# a = np.ones((2,2,3), dtype = np.int16)\n",
        "# print ('a ={}'.format(a)) \n"
      ],
      "execution_count": 0,
      "outputs": []
    },
    {
      "cell_type": "code",
      "metadata": {
        "id": "0FF9UurjIm3C",
        "colab_type": "code",
        "outputId": "de962af2-cb6a-40ad-fca3-807089c47053",
        "colab": {
          "base_uri": "https://localhost:8080/",
          "height": 50
        }
      },
      "source": [
        "#create an empty array\n",
        "a = np.empty((2,4))\n",
        "print ('a= {}'.format(a))\n"
      ],
      "execution_count": 0,
      "outputs": [
        {
          "output_type": "stream",
          "text": [
            "a= [[2.80708654e-316 1.58101007e-322 2.07955588e-312 4.26007226e+174]\n",
            " [4.79820217e+174 1.59991648e+160 2.61846957e+180 1.33511316e-306]]\n"
          ],
          "name": "stdout"
        }
      ]
    },
    {
      "cell_type": "code",
      "metadata": {
        "id": "kv0_WTi-JhJe",
        "colab_type": "code",
        "outputId": "f1b51d74-c7ed-47c3-b6cf-203a783595a7",
        "colab": {
          "base_uri": "https://localhost:8080/",
          "height": 50
        }
      },
      "source": [
        "# #Create a identity array\n",
        "a= np.eye((2),dtype = np.int16)\n",
        "print ('a= {}'.format(a))\n"
      ],
      "execution_count": 0,
      "outputs": [
        {
          "output_type": "stream",
          "text": [
            "a= [[1 0]\n",
            " [0 1]]\n"
          ],
          "name": "stdout"
        }
      ]
    },
    {
      "cell_type": "code",
      "metadata": {
        "id": "Yfvk_YHKJg_g",
        "colab_type": "code",
        "colab": {}
      },
      "source": [
        "# # create an array of ones with the same size of array (same as eg 14)\n",
        "\n",
        "# b = np.ones_like(a)\n",
        "# print('b = {}'.format(b))"
      ],
      "execution_count": 0,
      "outputs": []
    },
    {
      "cell_type": "code",
      "metadata": {
        "id": "PQxqCqHrJVt9",
        "colab_type": "code",
        "colab": {}
      },
      "source": [
        "# # create an array filled with inf values\n",
        "# b = np.full((3,6), np.inf)\n",
        "# print('b = {}'.format(b))\n"
      ],
      "execution_count": 0,
      "outputs": []
    },
    {
      "cell_type": "code",
      "metadata": {
        "id": "DFlTLdslOhhH",
        "colab_type": "code",
        "colab": {}
      },
      "source": [
        "# create a 3*3 array\n",
        "# c = np.array( [ [1,2,3],[7,3,4],[1,8,5]],  np.int16)\n",
        "# print ( 'c ={}'.format(c))"
      ],
      "execution_count": 0,
      "outputs": []
    },
    {
      "cell_type": "code",
      "metadata": {
        "id": "WeElzytBPYkT",
        "colab_type": "code",
        "colab": {}
      },
      "source": [
        "# find diagonal of previous array\n",
        "\n",
        "# d= np.diag(c)\n",
        "# print ( 'd ={}'.format(d))\n"
      ],
      "execution_count": 0,
      "outputs": []
    },
    {
      "cell_type": "code",
      "metadata": {
        "id": "LH6naoc1TJP1",
        "colab_type": "code",
        "colab": {}
      },
      "source": [
        "# #find the diagonals above and below the main diagonal\n",
        "# e= np.diag(c, k=1)\n",
        "# print ('this  elements are above the diagonal elements ::' + ' '+ 'e ={}'.format(e))\n",
        "\n",
        "# f= np.diag(c, k=-1)\n",
        "# print ('these are the elements below diagonal ::' +'  ' + 'f ={}'.format(f))"
      ],
      "execution_count": 0,
      "outputs": []
    },
    {
      "cell_type": "markdown",
      "metadata": {
        "id": "z4VBO2FzFwxt",
        "colab_type": "text"
      },
      "source": [
        "# 3. Create a sequence of numbers"
      ]
    },
    {
      "cell_type": "code",
      "metadata": {
        "id": "YWieJEhNVgZL",
        "colab_type": "code",
        "colab": {}
      },
      "source": [
        "# # create a sequence of three numbers between 1 and 7\n",
        "\n",
        "# a  = np.arange(1,7,3)\n",
        "# print ('a ={}'.format(a))"
      ],
      "execution_count": 0,
      "outputs": []
    },
    {
      "cell_type": "code",
      "metadata": {
        "id": "hScBpfEgGmIZ",
        "colab_type": "code",
        "colab": {}
      },
      "source": [
        "# create a sequence of numbers between 1 and 7 with stride 0.5\n",
        "\n",
        "# a  = np.arange(1,7,.5)\n",
        "# print ('a ={}'.format(a))"
      ],
      "execution_count": 0,
      "outputs": []
    },
    {
      "cell_type": "code",
      "metadata": {
        "id": "75v6Js8JHvIn",
        "colab_type": "code",
        "colab": {}
      },
      "source": [
        "# create 10 numbers between 1 and 7\n",
        "# a  = np.linspace(1,7,10)\n",
        "# b = np.around(a)\n",
        "# print ('b ={}'.format(b))"
      ],
      "execution_count": 0,
      "outputs": []
    },
    {
      "cell_type": "markdown",
      "metadata": {
        "id": "X4Z4koUTI938",
        "colab_type": "text"
      },
      "source": [
        "# Reshape an array"
      ]
    },
    {
      "cell_type": "code",
      "metadata": {
        "id": "eEUJnLzVI9ia",
        "colab_type": "code",
        "colab": {}
      },
      "source": [
        "# create a vector of 10 elements and reshape it into 5*2 array\n",
        "# a = np.arange(10)\n",
        "# print (a)\n",
        "# print (\"-\"*20)\n",
        "# b = a.reshape(5,2)\n",
        "# print(b)"
      ],
      "execution_count": 0,
      "outputs": []
    },
    {
      "cell_type": "code",
      "metadata": {
        "id": "8RO-CW6GKdWP",
        "colab_type": "code",
        "colab": {}
      },
      "source": [
        "# c =b.flatten()\n",
        "# print ('c = {}'.format(c))\n",
        "# c.shape"
      ],
      "execution_count": 0,
      "outputs": []
    },
    {
      "cell_type": "code",
      "metadata": {
        "id": "AuBxg9QPLfvy",
        "colab_type": "code",
        "colab": {}
      },
      "source": [
        "# create a 2*3 array then find its transpose\n",
        "\n",
        "# a= np.arange(6)\n",
        "# print(a)\n",
        "# print (\"-\"*30)\n",
        "# b= a.reshape(2,3)\n",
        "# print(b)\n",
        "# print (\"-\"*30)\n",
        "# c= b.transpose()\n",
        "# print (c)"
      ],
      "execution_count": 0,
      "outputs": []
    },
    {
      "cell_type": "code",
      "metadata": {
        "id": "nu3ec-KuLALr",
        "colab_type": "code",
        "outputId": "6c88f19d-cf30-4d65-ba07-bea1036fc484",
        "colab": {
          "base_uri": "https://localhost:8080/",
          "height": 50
        }
      },
      "source": [
        "# create a random 3*2 array \n",
        "# a= np.random.random_sample((2,3))*5 +3\n",
        "\n",
        "# print(a)"
      ],
      "execution_count": 0,
      "outputs": [
        {
          "output_type": "stream",
          "text": [
            "[[6.48961636 7.44073888 5.22169097]\n",
            " [7.91199263 4.61287223 7.9906901 ]]\n"
          ],
          "name": "stdout"
        }
      ]
    },
    {
      "cell_type": "code",
      "metadata": {
        "id": "2CIUjXxzOEHR",
        "colab_type": "code",
        "outputId": "bac94d4b-c3bf-4d13-de41-329d998c6061",
        "colab": {
          "base_uri": "https://localhost:8080/",
          "height": 101
        }
      },
      "source": [
        "# find the minimum of the previous array (a) and its index\n",
        "# print('min(a) = {}'.format(np.min(a)))\n",
        "# print('minposition(a) ={}'.format(np.argmax(a)))\n",
        "# print (\"-\"*30)\n",
        "# print('max(a) = {}'.format(np.max(a)))\n",
        "# print('maxposition(a) ={}'.format(np.argmax(a)))\n"
      ],
      "execution_count": 0,
      "outputs": [
        {
          "output_type": "stream",
          "text": [
            "min(a) = 4.612872233879607\n",
            "minposition(a) =5\n",
            "------------------------------\n",
            "max(a) = 7.990690099819349\n",
            "maxposition(a) =5\n"
          ],
          "name": "stdout"
        }
      ]
    },
    {
      "cell_type": "code",
      "metadata": {
        "id": "dFDo-Xo0OD8J",
        "colab_type": "code",
        "outputId": "b7ed8d1f-ad7a-42d5-b50b-5c1bcac62e22",
        "colab": {
          "base_uri": "https://localhost:8080/",
          "height": 34
        }
      },
      "source": [
        "print (\"b holds the value of max of row 1 and row 2 = {}\".format(np.maximum(a[0],a[1])))"
      ],
      "execution_count": 0,
      "outputs": [
        {
          "output_type": "stream",
          "text": [
            "b holds the value of max of row 1 and row 2 = [7.91199263 7.44073888 7.9906901 ]\n"
          ],
          "name": "stdout"
        }
      ]
    },
    {
      "cell_type": "markdown",
      "metadata": {
        "id": "QGtgFJ6jS8GV",
        "colab_type": "text"
      },
      "source": [
        "# Statistical measures"
      ]
    },
    {
      "cell_type": "code",
      "metadata": {
        "id": "96_-sgJ9I6r0",
        "colab_type": "code",
        "outputId": "7ab7d197-49cb-4c4a-dfed-aeb3452c5105",
        "colab": {
          "base_uri": "https://localhost:8080/",
          "height": 370
        }
      },
      "source": [
        " # generate a random 3*2 array and compute its mean, variance, and standard deviation\n",
        "#  a= np.random.random_sample((3,2)) *5\n",
        "#  print (\" this is the required array = \\n \\n {}\".format(a))\n",
        "#  print(\"-\" * 30)\n",
        "#  print(\"mean = \\n \\n{}\".format(np.mean(a)))\n",
        "#  print(\"-\" * 30)\n",
        "#  print(\"meadian = \\n \\n{}\".format( np.median(a)))\n",
        "#  print(\"-\" * 30)\n",
        "#  print(\"Standard Deviation = \\n \\n{}\".format(np.std(a) ))\n",
        "#  print(\"-\" * 30)\n",
        "#  print(\"Varience = \\n \\n{}\".format(np.var(a) ))\n"
      ],
      "execution_count": 0,
      "outputs": [
        {
          "output_type": "stream",
          "text": [
            " this is the required array = \n",
            " \n",
            " [[4.81140325 1.07952759]\n",
            " [2.7656584  4.90064821]\n",
            " [1.75529894 4.05421231]]\n",
            "------------------------------\n",
            "mean = \n",
            " \n",
            "3.227791447677593\n",
            "------------------------------\n",
            "meadian = \n",
            " \n",
            "3.409935352196607\n",
            "------------------------------\n",
            "Standard Deviation = \n",
            " \n",
            "1.4711722218106773\n",
            "------------------------------\n",
            "Varience = \n",
            " \n",
            "2.164347706227365\n"
          ],
          "name": "stdout"
        }
      ]
    },
    {
      "cell_type": "markdown",
      "metadata": {
        "id": "XlPWTqnkV_du",
        "colab_type": "text"
      },
      "source": [
        "# Linear Algebra"
      ]
    },
    {
      "cell_type": "code",
      "metadata": {
        "id": "ITLGjRs1WBpb",
        "colab_type": "code",
        "outputId": "25a5b484-72cf-451d-c4de-1bf8cdc89609",
        "colab": {
          "base_uri": "https://localhost:8080/",
          "height": 202
        }
      },
      "source": [
        "# create a square, random matrix a and find its exponential\n",
        "# a= np.random.random_sample ((3,3))\n",
        "# print (\"martix = \\n \\n {}\".format(a))\n",
        "# print (\"-\"*30)\n",
        "# print(\"exp of matrix  = \\n \\n {}\".format(np.exp(a)))\n"
      ],
      "execution_count": 0,
      "outputs": [
        {
          "output_type": "stream",
          "text": [
            "martix = \n",
            " \n",
            " [[0.70564228 0.7876283  0.39730505]\n",
            " [0.03606375 0.91439312 0.08089569]\n",
            " [0.43379212 0.21281596 0.18199714]]\n",
            "------------------------------\n",
            "exp of matrix  = \n",
            " \n",
            " [[2.02514698 2.19817682 1.48780972]\n",
            " [1.03672193 2.49526047 1.08425779]\n",
            " [1.54309805 1.23715694 1.19961077]]\n"
          ],
          "name": "stdout"
        }
      ]
    },
    {
      "cell_type": "code",
      "metadata": {
        "id": "y4HdgummdYhy",
        "colab_type": "code",
        "outputId": "59c671db-5dd8-4a9d-b957-889fd152aed0",
        "colab": {
          "base_uri": "https://localhost:8080/",
          "height": 202
        }
      },
      "source": [
        "# compute the determinant, rank, and trace of b\n",
        "# print(\"exp of matrix  = \\n \\n {}\".format(np.linalg.det(a)))\n",
        "# print (\"-\"*30)\n",
        "# print(\"rank of matrix  = \\n \\n {}\".format(np.linalg.matrix_rank(a)))\n",
        "# print (\"-\"*30)\n",
        "# print(\"trace of matrix  = \\n \\n {}\".format(np.trace(a)))\n"
      ],
      "execution_count": 0,
      "outputs": [
        {
          "output_type": "stream",
          "text": [
            "exp of matrix  = \n",
            " \n",
            " -0.026791998686123347\n",
            "------------------------------\n",
            "rank of matrix  = \n",
            " \n",
            " 3\n",
            "------------------------------\n",
            "trace of matrix  = \n",
            " \n",
            " 1.8020325482204291\n"
          ],
          "name": "stdout"
        }
      ]
    },
    {
      "cell_type": "code",
      "metadata": {
        "id": "Dsee3hJmes9v",
        "colab_type": "code",
        "outputId": "0bcec3aa-3a47-42ce-9881-4e12fe5b21c7",
        "colab": {
          "base_uri": "https://localhost:8080/",
          "height": 185
        }
      },
      "source": [
        "#find the eigen values and the eigen vectors of matrix \n",
        "#print(\"eigen value of matrix  = \\n \\n {}\".format(np.linalg.eigvals(a)))\n",
        "# print (\"-\"*30)\n",
        "# eigen_value, eigen_vector = np.linalg.eig(a)\n",
        "\n",
        "# print(\"eigen value of matrix  = \\n \\n {}\".format(eigen_value))\n",
        "# print (\"-\"*30)\n",
        "# print(\"eigen vector of matrix  = \\n \\n {}\".format(eigen_vector))\n"
      ],
      "execution_count": 0,
      "outputs": [
        {
          "output_type": "stream",
          "text": [
            "------------------------------\n",
            "eigen value of matrix  = \n",
            " \n",
            " [-0.03413895  1.15910179  0.67706971]\n",
            "------------------------------\n",
            "eigen vector of matrix  = \n",
            " \n",
            " [[ 0.42091571 -0.85635316  0.77739181]\n",
            " [ 0.06118249 -0.27142849 -0.30554823]\n",
            " [-0.90503407 -0.43930153  0.54982021]]\n"
          ],
          "name": "stdout"
        }
      ]
    },
    {
      "cell_type": "code",
      "metadata": {
        "id": "Vb0qnzrPgFZi",
        "colab_type": "code",
        "outputId": "9da3dd58-28c6-4211-e35a-475d918acc6c",
        "colab": {
          "base_uri": "https://localhost:8080/",
          "height": 269
        }
      },
      "source": [
        "# implement singular value decomposition on matrix b\n",
        "# u,s,vh = np.linalg.svd(a)\n",
        "# print(\"U of b is :\\n \\n {}\".format(u))\n",
        "# print (\"-\"*30)\n",
        "# print(\"V of b is :\\n \\n {}\".format(vh))\n",
        "# print (\"-\"*30)\n",
        "# print(\"singular values of b are :\\n \\n {}\".format(s))"
      ],
      "execution_count": 0,
      "outputs": [
        {
          "output_type": "stream",
          "text": [
            "U of b is :\n",
            " \n",
            " [[-0.7731413   0.38577287 -0.50342013]\n",
            " [-0.55523214 -0.79532808  0.2432499 ]\n",
            " [-0.30654495  0.46758158  0.82909448]]\n",
            "------------------------------\n",
            "V of b is :\n",
            " \n",
            " [[-0.48775292 -0.82522182 -0.28479121]\n",
            " [ 0.77185888 -0.56006634  0.30093116]\n",
            " [ 0.40783693  0.07303857 -0.91012878]]\n",
            "------------------------------\n",
            "singular values of b are :\n",
            " \n",
            " [1.43220409 0.57830305 0.0323478 ]\n"
          ],
          "name": "stdout"
        }
      ]
    },
    {
      "cell_type": "code",
      "metadata": {
        "id": "tQbmb4qHggKc",
        "colab_type": "code",
        "outputId": "bd7a21fd-1a5a-42c6-842c-7b3b9590ba67",
        "colab": {
          "base_uri": "https://localhost:8080/",
          "height": 168
        }
      },
      "source": [
        "# generate two arrays and compute their dot product\n",
        "# a = np.array([[1,2],[3,4]]) \n",
        "# b = np.array([[11,12],[13,14]]) \n",
        "# c = np.dot(a,b)\n",
        "# print(\"the dot product of a and b is:\\n{}\".format(c))\n",
        "# d = np.matmul(a,b)\n",
        "# print(\"the dot product of a and b is:\\n{}\".format(d))\n",
        "# print(\"the dot product of a and b is:\\n{}\".format(a*b))"
      ],
      "execution_count": 0,
      "outputs": [
        {
          "output_type": "stream",
          "text": [
            "the dot product of a and b is:\n",
            "[[37 40]\n",
            " [85 92]]\n",
            "the dot product of a and b is:\n",
            "[[37 40]\n",
            " [85 92]]\n",
            "the dot product of a and b is:\n",
            "[[11 24]\n",
            " [39 56]]\n"
          ],
          "name": "stdout"
        }
      ]
    },
    {
      "cell_type": "code",
      "metadata": {
        "id": "q5HIxtZog1oO",
        "colab_type": "code",
        "outputId": "f1e77501-9290-4add-d421-e2a5d715e183",
        "colab": {
          "base_uri": "https://localhost:8080/",
          "height": 67
        }
      },
      "source": [
        "# # Generate an array and compute its inverse and its pseudo inverse\n",
        "# a = np.random.random_sample((3,3))\n",
        "# print(a)\n",
        "# # Compute the (multiplicative) inverse of a matrix.\n",
        "# print(\"the inverse of a is:\")\n",
        "# b = np.linalg.inv(a)\n",
        "# print(b)\n",
        "# #compute the (Moore-Penrose) pseudo-inverse of a\n",
        "# print(\"the pseudo-inverse of a is:\")\n",
        "# c = np.linalg.pinv(a)\n",
        "# print(c)\n",
        "\n",
        "import random\n",
        "np.random.seed(3)\n",
        "d = random.randint(1, 10)  \n",
        "print(d)\n",
        "print (\"-\"*30)\n",
        "np.random.seed(5)\n",
        "d = random.randint(1, 10) \n",
        "print(d)\n",
        "\n",
        "\n"
      ],
      "execution_count": 0,
      "outputs": [
        {
          "output_type": "stream",
          "text": [
            "6\n",
            "------------------------------\n",
            "9\n"
          ],
          "name": "stdout"
        }
      ]
    }
  ]
}
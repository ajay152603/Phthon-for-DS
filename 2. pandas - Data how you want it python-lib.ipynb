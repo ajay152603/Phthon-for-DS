{
  "nbformat": 4,
  "nbformat_minor": 0,
  "metadata": {
    "colab": {
      "name": "Untitled2.ipynb",
      "provenance": [],
      "collapsed_sections": [],
      "mount_file_id": "1hdmDYWOnc_7jdRnu_ydaSTy3L3I8J3aq",
      "authorship_tag": "ABX9TyPspInLeMGv/xoPz46YU2mh",
      "include_colab_link": true
    },
    "kernelspec": {
      "name": "python3",
      "display_name": "Python 3"
    }
  },
  "cells": [
    {
      "cell_type": "markdown",
      "metadata": {
        "id": "view-in-github",
        "colab_type": "text"
      },
      "source": [
        "<a href=\"https://colab.research.google.com/github/ajay152603/Python-for-DS/blob/master/2.%20pandas%20-%20Data%20how%20you%20want%20it%20%23python-lib\" target=\"_parent\"><img src=\"https://colab.research.google.com/assets/colab-badge.svg\" alt=\"Open In Colab\"/></a>"
      ]
    },
    {
      "cell_type": "markdown",
      "metadata": {
        "id": "gVhscDK1Uvac",
        "colab_type": "text"
      },
      "source": [
        "# 2. pandas - Data how you want it #python-lib"
      ]
    },
    {
      "cell_type": "markdown",
      "metadata": {
        "id": "lpAGiFFdVJMN",
        "colab_type": "text"
      },
      "source": [
        "1. Load the pandas package"
      ]
    },
    {
      "cell_type": "code",
      "metadata": {
        "id": "zsmOpzxWf9-E",
        "colab_type": "code",
        "colab": {
          "base_uri": "https://localhost:8080/",
          "height": 34
        },
        "outputId": "168a0d39-f5a1-490b-e859-6521fc5b0dba"
      },
      "source": [
        "from google.colab import drive\n",
        "drive.mount('/content/drive')"
      ],
      "execution_count": 54,
      "outputs": [
        {
          "output_type": "stream",
          "text": [
            "Drive already mounted at /content/drive; to attempt to forcibly remount, call drive.mount(\"/content/drive\", force_remount=True).\n"
          ],
          "name": "stdout"
        }
      ]
    },
    {
      "cell_type": "code",
      "metadata": {
        "id": "UcKK9RSuVOtc",
        "colab_type": "code",
        "colab": {}
      },
      "source": [
        "#1. Load the pandas package\n",
        "import pandas as pd"
      ],
      "execution_count": 0,
      "outputs": []
    },
    {
      "cell_type": "code",
      "metadata": {
        "id": "N5gQGPxojHxY",
        "colab_type": "code",
        "colab": {
          "base_uri": "https://localhost:8080/",
          "height": 67
        },
        "outputId": "d18dd637-b676-45ba-a0f2-55ed37c2732a"
      },
      "source": [
        "#% cd /content/sample_data\n",
        "%ls\n"
      ],
      "execution_count": 56,
      "outputs": [
        {
          "output_type": "stream",
          "text": [
            "\u001b[0m\u001b[01;32manscombe.json\u001b[0m*                Customers.xlsx         \u001b[01;32mREADME.md\u001b[0m*\n",
            "california_housing_test.csv   mnist_test.csv\n",
            "california_housing_train.csv  mnist_train_small.csv\n"
          ],
          "name": "stdout"
        }
      ]
    },
    {
      "cell_type": "code",
      "metadata": {
        "id": "baW11oJUUuPZ",
        "colab_type": "code",
        "colab": {}
      },
      "source": [
        "#2. I want to store customers data. For a number of customers I know, the name(characters), age(integers), and sex(male/female) data.\n",
        "# df = pd.DataFrame ( {\n",
        "#     \"name\": [ \"Ajay\", \"Sanjay\",\"Michael\"],\n",
        "#     \"Age\": [25,65,48],\n",
        "#      \"Gender\": [ \"M\",\"M\",\"F\"]\n",
        "    \n",
        "# })\n",
        "# df"
      ],
      "execution_count": 0,
      "outputs": []
    },
    {
      "cell_type": "markdown",
      "metadata": {
        "id": "D3cCVdBdegFU",
        "colab_type": "text"
      },
      "source": [
        "Note that: A DataFrame is a 2-dimensional data structure that can store data of different types (including characters, integers,floating point values, categorical data and more) in columns."
      ]
    },
    {
      "cell_type": "code",
      "metadata": {
        "id": "MsJZstzEbD-Y",
        "colab_type": "code",
        "colab": {
          "base_uri": "https://localhost:8080/",
          "height": 84
        },
        "outputId": "a75f7f2f-1324-4319-f78e-850c9b5efeae"
      },
      "source": [
        "#3. To access the data of one column:\n",
        "df['name']"
      ],
      "execution_count": 58,
      "outputs": [
        {
          "output_type": "execute_result",
          "data": {
            "text/plain": [
              "0       Ajay\n",
              "1     Sanjay\n",
              "2    Michael\n",
              "Name: name, dtype: object"
            ]
          },
          "metadata": {
            "tags": []
          },
          "execution_count": 58
        }
      ]
    },
    {
      "cell_type": "code",
      "metadata": {
        "id": "FX9IgsrXeqAD",
        "colab_type": "code",
        "colab": {
          "base_uri": "https://localhost:8080/",
          "height": 34
        },
        "outputId": "275b06e6-391f-4e9c-cd15-4cf2b5440302"
      },
      "source": [
        "#4. To know the maximum/min age of the customers:\n",
        "\n",
        "#df['Age'].min()\n",
        "df['Age'].max()"
      ],
      "execution_count": 59,
      "outputs": [
        {
          "output_type": "execute_result",
          "data": {
            "text/plain": [
              "65"
            ]
          },
          "metadata": {
            "tags": []
          },
          "execution_count": 59
        }
      ]
    },
    {
      "cell_type": "code",
      "metadata": {
        "id": "bNwYVoArdDYO",
        "colab_type": "code",
        "colab": {
          "base_uri": "https://localhost:8080/",
          "height": 284
        },
        "outputId": "48377a91-60a2-46b8-bc83-54f83135eaa1"
      },
      "source": [
        "#5. If you are interested of some basic statistics of the numerical data of your table try describe() method, \n",
        "#    which provides a quick overview of the numerical data in a DataFrame\n",
        "\n",
        "df.describe()"
      ],
      "execution_count": 60,
      "outputs": [
        {
          "output_type": "execute_result",
          "data": {
            "text/html": [
              "<div>\n",
              "<style scoped>\n",
              "    .dataframe tbody tr th:only-of-type {\n",
              "        vertical-align: middle;\n",
              "    }\n",
              "\n",
              "    .dataframe tbody tr th {\n",
              "        vertical-align: top;\n",
              "    }\n",
              "\n",
              "    .dataframe thead th {\n",
              "        text-align: right;\n",
              "    }\n",
              "</style>\n",
              "<table border=\"1\" class=\"dataframe\">\n",
              "  <thead>\n",
              "    <tr style=\"text-align: right;\">\n",
              "      <th></th>\n",
              "      <th>Age</th>\n",
              "    </tr>\n",
              "  </thead>\n",
              "  <tbody>\n",
              "    <tr>\n",
              "      <th>count</th>\n",
              "      <td>3.00000</td>\n",
              "    </tr>\n",
              "    <tr>\n",
              "      <th>mean</th>\n",
              "      <td>46.00000</td>\n",
              "    </tr>\n",
              "    <tr>\n",
              "      <th>std</th>\n",
              "      <td>20.07486</td>\n",
              "    </tr>\n",
              "    <tr>\n",
              "      <th>min</th>\n",
              "      <td>25.00000</td>\n",
              "    </tr>\n",
              "    <tr>\n",
              "      <th>25%</th>\n",
              "      <td>36.50000</td>\n",
              "    </tr>\n",
              "    <tr>\n",
              "      <th>50%</th>\n",
              "      <td>48.00000</td>\n",
              "    </tr>\n",
              "    <tr>\n",
              "      <th>75%</th>\n",
              "      <td>56.50000</td>\n",
              "    </tr>\n",
              "    <tr>\n",
              "      <th>max</th>\n",
              "      <td>65.00000</td>\n",
              "    </tr>\n",
              "  </tbody>\n",
              "</table>\n",
              "</div>"
            ],
            "text/plain": [
              "            Age\n",
              "count   3.00000\n",
              "mean   46.00000\n",
              "std    20.07486\n",
              "min    25.00000\n",
              "25%    36.50000\n",
              "50%    48.00000\n",
              "75%    56.50000\n",
              "max    65.00000"
            ]
          },
          "metadata": {
            "tags": []
          },
          "execution_count": 60
        }
      ]
    },
    {
      "cell_type": "code",
      "metadata": {
        "id": "jGCLzKYxf1BA",
        "colab_type": "code",
        "colab": {}
      },
      "source": [
        "#6. Dealing with CSV files pandas provides the read_csv() function to read data stored as a csv file into a pandas DataFrame\n",
        "\n",
        "CustomerData = pd.read_csv(\"/content/P6-UK-Bank-Customers.csv\") \n",
        "\n"
      ],
      "execution_count": 0,
      "outputs": []
    },
    {
      "cell_type": "code",
      "metadata": {
        "id": "6Gq_si-Skd9B",
        "colab_type": "code",
        "colab": {
          "base_uri": "https://localhost:8080/",
          "height": 402
        },
        "outputId": "95275454-5e2b-4b40-cfa2-14a7e5c249cd"
      },
      "source": [
        "CustomerData"
      ],
      "execution_count": 62,
      "outputs": [
        {
          "output_type": "execute_result",
          "data": {
            "text/html": [
              "<div>\n",
              "<style scoped>\n",
              "    .dataframe tbody tr th:only-of-type {\n",
              "        vertical-align: middle;\n",
              "    }\n",
              "\n",
              "    .dataframe tbody tr th {\n",
              "        vertical-align: top;\n",
              "    }\n",
              "\n",
              "    .dataframe thead th {\n",
              "        text-align: right;\n",
              "    }\n",
              "</style>\n",
              "<table border=\"1\" class=\"dataframe\">\n",
              "  <thead>\n",
              "    <tr style=\"text-align: right;\">\n",
              "      <th></th>\n",
              "      <th>Customer ID</th>\n",
              "      <th>Name</th>\n",
              "      <th>Surname</th>\n",
              "      <th>Gender</th>\n",
              "      <th>Age</th>\n",
              "      <th>Region</th>\n",
              "      <th>Job Classification</th>\n",
              "      <th>Date Joined</th>\n",
              "      <th>Balance</th>\n",
              "    </tr>\n",
              "  </thead>\n",
              "  <tbody>\n",
              "    <tr>\n",
              "      <th>0</th>\n",
              "      <td>100000001</td>\n",
              "      <td>Simon</td>\n",
              "      <td>Walsh</td>\n",
              "      <td>Male</td>\n",
              "      <td>21</td>\n",
              "      <td>England</td>\n",
              "      <td>White Collar</td>\n",
              "      <td>05.Jan.15</td>\n",
              "      <td>113810.15</td>\n",
              "    </tr>\n",
              "    <tr>\n",
              "      <th>1</th>\n",
              "      <td>400000002</td>\n",
              "      <td>Jasmine</td>\n",
              "      <td>Miller</td>\n",
              "      <td>Female</td>\n",
              "      <td>34</td>\n",
              "      <td>Northern Ireland</td>\n",
              "      <td>Blue Collar</td>\n",
              "      <td>06.Jan.15</td>\n",
              "      <td>36919.73</td>\n",
              "    </tr>\n",
              "    <tr>\n",
              "      <th>2</th>\n",
              "      <td>100000003</td>\n",
              "      <td>Liam</td>\n",
              "      <td>Brown</td>\n",
              "      <td>Male</td>\n",
              "      <td>46</td>\n",
              "      <td>England</td>\n",
              "      <td>White Collar</td>\n",
              "      <td>07.Jan.15</td>\n",
              "      <td>101536.83</td>\n",
              "    </tr>\n",
              "    <tr>\n",
              "      <th>3</th>\n",
              "      <td>300000004</td>\n",
              "      <td>Trevor</td>\n",
              "      <td>Parr</td>\n",
              "      <td>Male</td>\n",
              "      <td>32</td>\n",
              "      <td>Wales</td>\n",
              "      <td>White Collar</td>\n",
              "      <td>08.Jan.15</td>\n",
              "      <td>1421.52</td>\n",
              "    </tr>\n",
              "    <tr>\n",
              "      <th>4</th>\n",
              "      <td>100000005</td>\n",
              "      <td>Deirdre</td>\n",
              "      <td>Pullman</td>\n",
              "      <td>Female</td>\n",
              "      <td>38</td>\n",
              "      <td>England</td>\n",
              "      <td>Blue Collar</td>\n",
              "      <td>09.Jan.15</td>\n",
              "      <td>35639.79</td>\n",
              "    </tr>\n",
              "    <tr>\n",
              "      <th>...</th>\n",
              "      <td>...</td>\n",
              "      <td>...</td>\n",
              "      <td>...</td>\n",
              "      <td>...</td>\n",
              "      <td>...</td>\n",
              "      <td>...</td>\n",
              "      <td>...</td>\n",
              "      <td>...</td>\n",
              "      <td>...</td>\n",
              "    </tr>\n",
              "    <tr>\n",
              "      <th>4009</th>\n",
              "      <td>200004010</td>\n",
              "      <td>Sam</td>\n",
              "      <td>Lewis</td>\n",
              "      <td>Male</td>\n",
              "      <td>64</td>\n",
              "      <td>Scotland</td>\n",
              "      <td>Other</td>\n",
              "      <td>30.Dec.15</td>\n",
              "      <td>19711.66</td>\n",
              "    </tr>\n",
              "    <tr>\n",
              "      <th>4010</th>\n",
              "      <td>200004011</td>\n",
              "      <td>Keith</td>\n",
              "      <td>Hughes</td>\n",
              "      <td>Male</td>\n",
              "      <td>52</td>\n",
              "      <td>Scotland</td>\n",
              "      <td>Blue Collar</td>\n",
              "      <td>30.Dec.15</td>\n",
              "      <td>56069.72</td>\n",
              "    </tr>\n",
              "    <tr>\n",
              "      <th>4011</th>\n",
              "      <td>200004012</td>\n",
              "      <td>Hannah</td>\n",
              "      <td>Springer</td>\n",
              "      <td>Female</td>\n",
              "      <td>50</td>\n",
              "      <td>Scotland</td>\n",
              "      <td>Other</td>\n",
              "      <td>30.Dec.15</td>\n",
              "      <td>59477.82</td>\n",
              "    </tr>\n",
              "    <tr>\n",
              "      <th>4012</th>\n",
              "      <td>200004013</td>\n",
              "      <td>Christian</td>\n",
              "      <td>Reid</td>\n",
              "      <td>Male</td>\n",
              "      <td>51</td>\n",
              "      <td>Scotland</td>\n",
              "      <td>Blue Collar</td>\n",
              "      <td>30.Dec.15</td>\n",
              "      <td>239.45</td>\n",
              "    </tr>\n",
              "    <tr>\n",
              "      <th>4013</th>\n",
              "      <td>300004014</td>\n",
              "      <td>Stephen</td>\n",
              "      <td>May</td>\n",
              "      <td>Male</td>\n",
              "      <td>33</td>\n",
              "      <td>Wales</td>\n",
              "      <td>Blue Collar</td>\n",
              "      <td>30.Dec.15</td>\n",
              "      <td>30293.19</td>\n",
              "    </tr>\n",
              "  </tbody>\n",
              "</table>\n",
              "<p>4014 rows × 9 columns</p>\n",
              "</div>"
            ],
            "text/plain": [
              "      Customer ID       Name  ... Date Joined    Balance\n",
              "0       100000001      Simon  ...   05.Jan.15  113810.15\n",
              "1       400000002    Jasmine  ...   06.Jan.15   36919.73\n",
              "2       100000003       Liam  ...   07.Jan.15  101536.83\n",
              "3       300000004     Trevor  ...   08.Jan.15    1421.52\n",
              "4       100000005    Deirdre  ...   09.Jan.15   35639.79\n",
              "...           ...        ...  ...         ...        ...\n",
              "4009    200004010        Sam  ...   30.Dec.15   19711.66\n",
              "4010    200004011      Keith  ...   30.Dec.15   56069.72\n",
              "4011    200004012     Hannah  ...   30.Dec.15   59477.82\n",
              "4012    200004013  Christian  ...   30.Dec.15     239.45\n",
              "4013    300004014    Stephen  ...   30.Dec.15   30293.19\n",
              "\n",
              "[4014 rows x 9 columns]"
            ]
          },
          "metadata": {
            "tags": []
          },
          "execution_count": 62
        }
      ]
    },
    {
      "cell_type": "code",
      "metadata": {
        "id": "6RtOUTLskyav",
        "colab_type": "code",
        "colab": {
          "base_uri": "https://localhost:8080/",
          "height": 284
        },
        "outputId": "8826f440-7bbb-4797-9586-af643717cebb"
      },
      "source": [
        "CustomerData.describe()"
      ],
      "execution_count": 63,
      "outputs": [
        {
          "output_type": "execute_result",
          "data": {
            "text/html": [
              "<div>\n",
              "<style scoped>\n",
              "    .dataframe tbody tr th:only-of-type {\n",
              "        vertical-align: middle;\n",
              "    }\n",
              "\n",
              "    .dataframe tbody tr th {\n",
              "        vertical-align: top;\n",
              "    }\n",
              "\n",
              "    .dataframe thead th {\n",
              "        text-align: right;\n",
              "    }\n",
              "</style>\n",
              "<table border=\"1\" class=\"dataframe\">\n",
              "  <thead>\n",
              "    <tr style=\"text-align: right;\">\n",
              "      <th></th>\n",
              "      <th>Customer ID</th>\n",
              "      <th>Age</th>\n",
              "      <th>Balance</th>\n",
              "    </tr>\n",
              "  </thead>\n",
              "  <tbody>\n",
              "    <tr>\n",
              "      <th>count</th>\n",
              "      <td>4.014000e+03</td>\n",
              "      <td>4014.000000</td>\n",
              "      <td>4014.000000</td>\n",
              "    </tr>\n",
              "    <tr>\n",
              "      <th>mean</th>\n",
              "      <td>1.696831e+08</td>\n",
              "      <td>38.611111</td>\n",
              "      <td>39766.448274</td>\n",
              "    </tr>\n",
              "    <tr>\n",
              "      <th>std</th>\n",
              "      <td>8.865374e+07</td>\n",
              "      <td>9.819121</td>\n",
              "      <td>29859.489192</td>\n",
              "    </tr>\n",
              "    <tr>\n",
              "      <th>min</th>\n",
              "      <td>1.000000e+08</td>\n",
              "      <td>15.000000</td>\n",
              "      <td>11.520000</td>\n",
              "    </tr>\n",
              "    <tr>\n",
              "      <th>25%</th>\n",
              "      <td>1.000020e+08</td>\n",
              "      <td>31.000000</td>\n",
              "      <td>16115.367500</td>\n",
              "    </tr>\n",
              "    <tr>\n",
              "      <th>50%</th>\n",
              "      <td>1.000038e+08</td>\n",
              "      <td>37.000000</td>\n",
              "      <td>33567.330000</td>\n",
              "    </tr>\n",
              "    <tr>\n",
              "      <th>75%</th>\n",
              "      <td>2.000031e+08</td>\n",
              "      <td>45.000000</td>\n",
              "      <td>57533.930000</td>\n",
              "    </tr>\n",
              "    <tr>\n",
              "      <th>max</th>\n",
              "      <td>4.000038e+08</td>\n",
              "      <td>64.000000</td>\n",
              "      <td>183467.700000</td>\n",
              "    </tr>\n",
              "  </tbody>\n",
              "</table>\n",
              "</div>"
            ],
            "text/plain": [
              "        Customer ID          Age        Balance\n",
              "count  4.014000e+03  4014.000000    4014.000000\n",
              "mean   1.696831e+08    38.611111   39766.448274\n",
              "std    8.865374e+07     9.819121   29859.489192\n",
              "min    1.000000e+08    15.000000      11.520000\n",
              "25%    1.000020e+08    31.000000   16115.367500\n",
              "50%    1.000038e+08    37.000000   33567.330000\n",
              "75%    2.000031e+08    45.000000   57533.930000\n",
              "max    4.000038e+08    64.000000  183467.700000"
            ]
          },
          "metadata": {
            "tags": []
          },
          "execution_count": 63
        }
      ]
    },
    {
      "cell_type": "code",
      "metadata": {
        "id": "XU4Bw0c3k_a3",
        "colab_type": "code",
        "colab": {
          "base_uri": "https://localhost:8080/",
          "height": 195
        },
        "outputId": "d76b6692-d484-47be-9451-b9551b493b30"
      },
      "source": [
        "#To see the first two rows :\n",
        "CustomerData.head()\n",
        "\n"
      ],
      "execution_count": 64,
      "outputs": [
        {
          "output_type": "execute_result",
          "data": {
            "text/html": [
              "<div>\n",
              "<style scoped>\n",
              "    .dataframe tbody tr th:only-of-type {\n",
              "        vertical-align: middle;\n",
              "    }\n",
              "\n",
              "    .dataframe tbody tr th {\n",
              "        vertical-align: top;\n",
              "    }\n",
              "\n",
              "    .dataframe thead th {\n",
              "        text-align: right;\n",
              "    }\n",
              "</style>\n",
              "<table border=\"1\" class=\"dataframe\">\n",
              "  <thead>\n",
              "    <tr style=\"text-align: right;\">\n",
              "      <th></th>\n",
              "      <th>Customer ID</th>\n",
              "      <th>Name</th>\n",
              "      <th>Surname</th>\n",
              "      <th>Gender</th>\n",
              "      <th>Age</th>\n",
              "      <th>Region</th>\n",
              "      <th>Job Classification</th>\n",
              "      <th>Date Joined</th>\n",
              "      <th>Balance</th>\n",
              "    </tr>\n",
              "  </thead>\n",
              "  <tbody>\n",
              "    <tr>\n",
              "      <th>0</th>\n",
              "      <td>100000001</td>\n",
              "      <td>Simon</td>\n",
              "      <td>Walsh</td>\n",
              "      <td>Male</td>\n",
              "      <td>21</td>\n",
              "      <td>England</td>\n",
              "      <td>White Collar</td>\n",
              "      <td>05.Jan.15</td>\n",
              "      <td>113810.15</td>\n",
              "    </tr>\n",
              "    <tr>\n",
              "      <th>1</th>\n",
              "      <td>400000002</td>\n",
              "      <td>Jasmine</td>\n",
              "      <td>Miller</td>\n",
              "      <td>Female</td>\n",
              "      <td>34</td>\n",
              "      <td>Northern Ireland</td>\n",
              "      <td>Blue Collar</td>\n",
              "      <td>06.Jan.15</td>\n",
              "      <td>36919.73</td>\n",
              "    </tr>\n",
              "    <tr>\n",
              "      <th>2</th>\n",
              "      <td>100000003</td>\n",
              "      <td>Liam</td>\n",
              "      <td>Brown</td>\n",
              "      <td>Male</td>\n",
              "      <td>46</td>\n",
              "      <td>England</td>\n",
              "      <td>White Collar</td>\n",
              "      <td>07.Jan.15</td>\n",
              "      <td>101536.83</td>\n",
              "    </tr>\n",
              "    <tr>\n",
              "      <th>3</th>\n",
              "      <td>300000004</td>\n",
              "      <td>Trevor</td>\n",
              "      <td>Parr</td>\n",
              "      <td>Male</td>\n",
              "      <td>32</td>\n",
              "      <td>Wales</td>\n",
              "      <td>White Collar</td>\n",
              "      <td>08.Jan.15</td>\n",
              "      <td>1421.52</td>\n",
              "    </tr>\n",
              "    <tr>\n",
              "      <th>4</th>\n",
              "      <td>100000005</td>\n",
              "      <td>Deirdre</td>\n",
              "      <td>Pullman</td>\n",
              "      <td>Female</td>\n",
              "      <td>38</td>\n",
              "      <td>England</td>\n",
              "      <td>Blue Collar</td>\n",
              "      <td>09.Jan.15</td>\n",
              "      <td>35639.79</td>\n",
              "    </tr>\n",
              "  </tbody>\n",
              "</table>\n",
              "</div>"
            ],
            "text/plain": [
              "   Customer ID     Name  Surname  ... Job Classification  Date Joined    Balance\n",
              "0    100000001    Simon    Walsh  ...       White Collar    05.Jan.15  113810.15\n",
              "1    400000002  Jasmine   Miller  ...        Blue Collar    06.Jan.15   36919.73\n",
              "2    100000003     Liam    Brown  ...       White Collar    07.Jan.15  101536.83\n",
              "3    300000004   Trevor     Parr  ...       White Collar    08.Jan.15    1421.52\n",
              "4    100000005  Deirdre  Pullman  ...        Blue Collar    09.Jan.15   35639.79\n",
              "\n",
              "[5 rows x 9 columns]"
            ]
          },
          "metadata": {
            "tags": []
          },
          "execution_count": 64
        }
      ]
    },
    {
      "cell_type": "code",
      "metadata": {
        "id": "L5PRXWk8lpjk",
        "colab_type": "code",
        "colab": {
          "base_uri": "https://localhost:8080/",
          "height": 185
        },
        "outputId": "ccfbcea3-963a-49a9-fbce-5f565fd41ad3"
      },
      "source": [
        "#A check on how pandas interpreted each of the column data\n",
        "# types can be done by requesting the pandas dtypes attribute\n",
        "\n",
        "CustomerData.dtypes"
      ],
      "execution_count": 65,
      "outputs": [
        {
          "output_type": "execute_result",
          "data": {
            "text/plain": [
              "Customer ID             int64\n",
              "Name                   object\n",
              "Surname                object\n",
              "Gender                 object\n",
              "Age                     int64\n",
              "Region                 object\n",
              "Job Classification     object\n",
              "Date Joined            object\n",
              "Balance               float64\n",
              "dtype: object"
            ]
          },
          "metadata": {
            "tags": []
          },
          "execution_count": 65
        }
      ]
    },
    {
      "cell_type": "code",
      "metadata": {
        "id": "-Lmg0WyvmjiF",
        "colab_type": "code",
        "colab": {}
      },
      "source": [
        "#To store the data in an excel file:\n",
        "\n",
        "CustomerData.to_excel(\"Customers.xlsx\",sheet_name= 'sheet1', index=False)"
      ],
      "execution_count": 0,
      "outputs": []
    },
    {
      "cell_type": "code",
      "metadata": {
        "id": "7LKLMaMmnMuP",
        "colab_type": "code",
        "colab": {}
      },
      "source": [
        "Customer =pd.read_excel(\"Customers.xlsx\",sheet_name= 'sheet1')"
      ],
      "execution_count": 0,
      "outputs": []
    },
    {
      "cell_type": "code",
      "metadata": {
        "id": "925wKf08nkW9",
        "colab_type": "code",
        "colab": {
          "base_uri": "https://localhost:8080/",
          "height": 402
        },
        "outputId": "fba69c54-4849-43ea-f683-905bc042c1a8"
      },
      "source": [
        "Customer"
      ],
      "execution_count": 68,
      "outputs": [
        {
          "output_type": "execute_result",
          "data": {
            "text/html": [
              "<div>\n",
              "<style scoped>\n",
              "    .dataframe tbody tr th:only-of-type {\n",
              "        vertical-align: middle;\n",
              "    }\n",
              "\n",
              "    .dataframe tbody tr th {\n",
              "        vertical-align: top;\n",
              "    }\n",
              "\n",
              "    .dataframe thead th {\n",
              "        text-align: right;\n",
              "    }\n",
              "</style>\n",
              "<table border=\"1\" class=\"dataframe\">\n",
              "  <thead>\n",
              "    <tr style=\"text-align: right;\">\n",
              "      <th></th>\n",
              "      <th>Customer ID</th>\n",
              "      <th>Name</th>\n",
              "      <th>Surname</th>\n",
              "      <th>Gender</th>\n",
              "      <th>Age</th>\n",
              "      <th>Region</th>\n",
              "      <th>Job Classification</th>\n",
              "      <th>Date Joined</th>\n",
              "      <th>Balance</th>\n",
              "    </tr>\n",
              "  </thead>\n",
              "  <tbody>\n",
              "    <tr>\n",
              "      <th>0</th>\n",
              "      <td>100000001</td>\n",
              "      <td>Simon</td>\n",
              "      <td>Walsh</td>\n",
              "      <td>Male</td>\n",
              "      <td>21</td>\n",
              "      <td>England</td>\n",
              "      <td>White Collar</td>\n",
              "      <td>05.Jan.15</td>\n",
              "      <td>113810.15</td>\n",
              "    </tr>\n",
              "    <tr>\n",
              "      <th>1</th>\n",
              "      <td>400000002</td>\n",
              "      <td>Jasmine</td>\n",
              "      <td>Miller</td>\n",
              "      <td>Female</td>\n",
              "      <td>34</td>\n",
              "      <td>Northern Ireland</td>\n",
              "      <td>Blue Collar</td>\n",
              "      <td>06.Jan.15</td>\n",
              "      <td>36919.73</td>\n",
              "    </tr>\n",
              "    <tr>\n",
              "      <th>2</th>\n",
              "      <td>100000003</td>\n",
              "      <td>Liam</td>\n",
              "      <td>Brown</td>\n",
              "      <td>Male</td>\n",
              "      <td>46</td>\n",
              "      <td>England</td>\n",
              "      <td>White Collar</td>\n",
              "      <td>07.Jan.15</td>\n",
              "      <td>101536.83</td>\n",
              "    </tr>\n",
              "    <tr>\n",
              "      <th>3</th>\n",
              "      <td>300000004</td>\n",
              "      <td>Trevor</td>\n",
              "      <td>Parr</td>\n",
              "      <td>Male</td>\n",
              "      <td>32</td>\n",
              "      <td>Wales</td>\n",
              "      <td>White Collar</td>\n",
              "      <td>08.Jan.15</td>\n",
              "      <td>1421.52</td>\n",
              "    </tr>\n",
              "    <tr>\n",
              "      <th>4</th>\n",
              "      <td>100000005</td>\n",
              "      <td>Deirdre</td>\n",
              "      <td>Pullman</td>\n",
              "      <td>Female</td>\n",
              "      <td>38</td>\n",
              "      <td>England</td>\n",
              "      <td>Blue Collar</td>\n",
              "      <td>09.Jan.15</td>\n",
              "      <td>35639.79</td>\n",
              "    </tr>\n",
              "    <tr>\n",
              "      <th>...</th>\n",
              "      <td>...</td>\n",
              "      <td>...</td>\n",
              "      <td>...</td>\n",
              "      <td>...</td>\n",
              "      <td>...</td>\n",
              "      <td>...</td>\n",
              "      <td>...</td>\n",
              "      <td>...</td>\n",
              "      <td>...</td>\n",
              "    </tr>\n",
              "    <tr>\n",
              "      <th>4009</th>\n",
              "      <td>200004010</td>\n",
              "      <td>Sam</td>\n",
              "      <td>Lewis</td>\n",
              "      <td>Male</td>\n",
              "      <td>64</td>\n",
              "      <td>Scotland</td>\n",
              "      <td>Other</td>\n",
              "      <td>30.Dec.15</td>\n",
              "      <td>19711.66</td>\n",
              "    </tr>\n",
              "    <tr>\n",
              "      <th>4010</th>\n",
              "      <td>200004011</td>\n",
              "      <td>Keith</td>\n",
              "      <td>Hughes</td>\n",
              "      <td>Male</td>\n",
              "      <td>52</td>\n",
              "      <td>Scotland</td>\n",
              "      <td>Blue Collar</td>\n",
              "      <td>30.Dec.15</td>\n",
              "      <td>56069.72</td>\n",
              "    </tr>\n",
              "    <tr>\n",
              "      <th>4011</th>\n",
              "      <td>200004012</td>\n",
              "      <td>Hannah</td>\n",
              "      <td>Springer</td>\n",
              "      <td>Female</td>\n",
              "      <td>50</td>\n",
              "      <td>Scotland</td>\n",
              "      <td>Other</td>\n",
              "      <td>30.Dec.15</td>\n",
              "      <td>59477.82</td>\n",
              "    </tr>\n",
              "    <tr>\n",
              "      <th>4012</th>\n",
              "      <td>200004013</td>\n",
              "      <td>Christian</td>\n",
              "      <td>Reid</td>\n",
              "      <td>Male</td>\n",
              "      <td>51</td>\n",
              "      <td>Scotland</td>\n",
              "      <td>Blue Collar</td>\n",
              "      <td>30.Dec.15</td>\n",
              "      <td>239.45</td>\n",
              "    </tr>\n",
              "    <tr>\n",
              "      <th>4013</th>\n",
              "      <td>300004014</td>\n",
              "      <td>Stephen</td>\n",
              "      <td>May</td>\n",
              "      <td>Male</td>\n",
              "      <td>33</td>\n",
              "      <td>Wales</td>\n",
              "      <td>Blue Collar</td>\n",
              "      <td>30.Dec.15</td>\n",
              "      <td>30293.19</td>\n",
              "    </tr>\n",
              "  </tbody>\n",
              "</table>\n",
              "<p>4014 rows × 9 columns</p>\n",
              "</div>"
            ],
            "text/plain": [
              "      Customer ID       Name  ... Date Joined    Balance\n",
              "0       100000001      Simon  ...   05.Jan.15  113810.15\n",
              "1       400000002    Jasmine  ...   06.Jan.15   36919.73\n",
              "2       100000003       Liam  ...   07.Jan.15  101536.83\n",
              "3       300000004     Trevor  ...   08.Jan.15    1421.52\n",
              "4       100000005    Deirdre  ...   09.Jan.15   35639.79\n",
              "...           ...        ...  ...         ...        ...\n",
              "4009    200004010        Sam  ...   30.Dec.15   19711.66\n",
              "4010    200004011      Keith  ...   30.Dec.15   56069.72\n",
              "4011    200004012     Hannah  ...   30.Dec.15   59477.82\n",
              "4012    200004013  Christian  ...   30.Dec.15     239.45\n",
              "4013    300004014    Stephen  ...   30.Dec.15   30293.19\n",
              "\n",
              "[4014 rows x 9 columns]"
            ]
          },
          "metadata": {
            "tags": []
          },
          "execution_count": 68
        }
      ]
    },
    {
      "cell_type": "code",
      "metadata": {
        "id": "hJ-aiZv7nvvY",
        "colab_type": "code",
        "colab": {
          "base_uri": "https://localhost:8080/",
          "height": 286
        },
        "outputId": "2fdb92d4-57ff-4b9b-a3c5-8f5ceece6aba"
      },
      "source": [
        "#To get a technical summary of a DataFrame\n",
        "Customer.info()"
      ],
      "execution_count": 70,
      "outputs": [
        {
          "output_type": "stream",
          "text": [
            "<class 'pandas.core.frame.DataFrame'>\n",
            "RangeIndex: 4014 entries, 0 to 4013\n",
            "Data columns (total 9 columns):\n",
            " #   Column              Non-Null Count  Dtype  \n",
            "---  ------              --------------  -----  \n",
            " 0   Customer ID         4014 non-null   int64  \n",
            " 1   Name                4014 non-null   object \n",
            " 2   Surname             4014 non-null   object \n",
            " 3   Gender              4014 non-null   object \n",
            " 4   Age                 4014 non-null   int64  \n",
            " 5   Region              4014 non-null   object \n",
            " 6   Job Classification  4014 non-null   object \n",
            " 7   Date Joined         4014 non-null   object \n",
            " 8   Balance             4014 non-null   float64\n",
            "dtypes: float64(1), int64(2), object(6)\n",
            "memory usage: 282.4+ KB\n"
          ],
          "name": "stdout"
        }
      ]
    },
    {
      "cell_type": "code",
      "metadata": {
        "id": "B75CJI2PoImm",
        "colab_type": "code",
        "colab": {}
      },
      "source": [
        "#Now let us select one column and look at its type and shape\n",
        "\n",
        "sex=Customer['Gender']"
      ],
      "execution_count": 0,
      "outputs": []
    },
    {
      "cell_type": "code",
      "metadata": {
        "id": "gJdYp0hFowEF",
        "colab_type": "code",
        "colab": {
          "base_uri": "https://localhost:8080/",
          "height": 67
        },
        "outputId": "865aa008-c32f-4213-f92a-b4becade44bf"
      },
      "source": [
        "sex.shape\n",
        "sex.head(2)"
      ],
      "execution_count": 79,
      "outputs": [
        {
          "output_type": "execute_result",
          "data": {
            "text/plain": [
              "0      Male\n",
              "1    Female\n",
              "Name: Gender, dtype: object"
            ]
          },
          "metadata": {
            "tags": []
          },
          "execution_count": 79
        }
      ]
    },
    {
      "cell_type": "code",
      "metadata": {
        "id": "2vXFXx5JpHJ2",
        "colab_type": "code",
        "colab": {
          "base_uri": "https://localhost:8080/",
          "height": 195
        },
        "outputId": "94d6fbc8-68ba-4b12-dea7-534d4efffd8c"
      },
      "source": [
        "#To select multiple columns:\n",
        "\n",
        "Customer[['Name', 'Gender']].head()"
      ],
      "execution_count": 81,
      "outputs": [
        {
          "output_type": "execute_result",
          "data": {
            "text/html": [
              "<div>\n",
              "<style scoped>\n",
              "    .dataframe tbody tr th:only-of-type {\n",
              "        vertical-align: middle;\n",
              "    }\n",
              "\n",
              "    .dataframe tbody tr th {\n",
              "        vertical-align: top;\n",
              "    }\n",
              "\n",
              "    .dataframe thead th {\n",
              "        text-align: right;\n",
              "    }\n",
              "</style>\n",
              "<table border=\"1\" class=\"dataframe\">\n",
              "  <thead>\n",
              "    <tr style=\"text-align: right;\">\n",
              "      <th></th>\n",
              "      <th>Name</th>\n",
              "      <th>Gender</th>\n",
              "    </tr>\n",
              "  </thead>\n",
              "  <tbody>\n",
              "    <tr>\n",
              "      <th>0</th>\n",
              "      <td>Simon</td>\n",
              "      <td>Male</td>\n",
              "    </tr>\n",
              "    <tr>\n",
              "      <th>1</th>\n",
              "      <td>Jasmine</td>\n",
              "      <td>Female</td>\n",
              "    </tr>\n",
              "    <tr>\n",
              "      <th>2</th>\n",
              "      <td>Liam</td>\n",
              "      <td>Male</td>\n",
              "    </tr>\n",
              "    <tr>\n",
              "      <th>3</th>\n",
              "      <td>Trevor</td>\n",
              "      <td>Male</td>\n",
              "    </tr>\n",
              "    <tr>\n",
              "      <th>4</th>\n",
              "      <td>Deirdre</td>\n",
              "      <td>Female</td>\n",
              "    </tr>\n",
              "  </tbody>\n",
              "</table>\n",
              "</div>"
            ],
            "text/plain": [
              "      Name  Gender\n",
              "0    Simon    Male\n",
              "1  Jasmine  Female\n",
              "2     Liam    Male\n",
              "3   Trevor    Male\n",
              "4  Deirdre  Female"
            ]
          },
          "metadata": {
            "tags": []
          },
          "execution_count": 81
        }
      ]
    },
    {
      "cell_type": "code",
      "metadata": {
        "id": "h15GNHqjpbg7",
        "colab_type": "code",
        "colab": {}
      },
      "source": [
        "#To filter specific rows from a DataFrame: pass the customer who are elder than 29\n",
        "\n",
        "\n",
        "CustomerAbove29= Customer[ Customer['Age']>29]"
      ],
      "execution_count": 0,
      "outputs": []
    },
    {
      "cell_type": "code",
      "metadata": {
        "id": "q1AkjK8Hp5gg",
        "colab_type": "code",
        "colab": {
          "base_uri": "https://localhost:8080/",
          "height": 402
        },
        "outputId": "f5a142e7-fb31-4215-b812-1bbf6ada0a92"
      },
      "source": [
        "CustomerAbove29\n",
        "#CustomerAbove29[ CustomerAbove29['Region']== \"England\"]"
      ],
      "execution_count": 98,
      "outputs": [
        {
          "output_type": "execute_result",
          "data": {
            "text/html": [
              "<div>\n",
              "<style scoped>\n",
              "    .dataframe tbody tr th:only-of-type {\n",
              "        vertical-align: middle;\n",
              "    }\n",
              "\n",
              "    .dataframe tbody tr th {\n",
              "        vertical-align: top;\n",
              "    }\n",
              "\n",
              "    .dataframe thead th {\n",
              "        text-align: right;\n",
              "    }\n",
              "</style>\n",
              "<table border=\"1\" class=\"dataframe\">\n",
              "  <thead>\n",
              "    <tr style=\"text-align: right;\">\n",
              "      <th></th>\n",
              "      <th>Customer ID</th>\n",
              "      <th>Name</th>\n",
              "      <th>Surname</th>\n",
              "      <th>Gender</th>\n",
              "      <th>Age</th>\n",
              "      <th>Region</th>\n",
              "      <th>Job Classification</th>\n",
              "      <th>Date Joined</th>\n",
              "      <th>Balance</th>\n",
              "    </tr>\n",
              "  </thead>\n",
              "  <tbody>\n",
              "    <tr>\n",
              "      <th>1</th>\n",
              "      <td>400000002</td>\n",
              "      <td>Jasmine</td>\n",
              "      <td>Miller</td>\n",
              "      <td>Female</td>\n",
              "      <td>34</td>\n",
              "      <td>Northern Ireland</td>\n",
              "      <td>Blue Collar</td>\n",
              "      <td>06.Jan.15</td>\n",
              "      <td>36919.73</td>\n",
              "    </tr>\n",
              "    <tr>\n",
              "      <th>2</th>\n",
              "      <td>100000003</td>\n",
              "      <td>Liam</td>\n",
              "      <td>Brown</td>\n",
              "      <td>Male</td>\n",
              "      <td>46</td>\n",
              "      <td>England</td>\n",
              "      <td>White Collar</td>\n",
              "      <td>07.Jan.15</td>\n",
              "      <td>101536.83</td>\n",
              "    </tr>\n",
              "    <tr>\n",
              "      <th>3</th>\n",
              "      <td>300000004</td>\n",
              "      <td>Trevor</td>\n",
              "      <td>Parr</td>\n",
              "      <td>Male</td>\n",
              "      <td>32</td>\n",
              "      <td>Wales</td>\n",
              "      <td>White Collar</td>\n",
              "      <td>08.Jan.15</td>\n",
              "      <td>1421.52</td>\n",
              "    </tr>\n",
              "    <tr>\n",
              "      <th>4</th>\n",
              "      <td>100000005</td>\n",
              "      <td>Deirdre</td>\n",
              "      <td>Pullman</td>\n",
              "      <td>Female</td>\n",
              "      <td>38</td>\n",
              "      <td>England</td>\n",
              "      <td>Blue Collar</td>\n",
              "      <td>09.Jan.15</td>\n",
              "      <td>35639.79</td>\n",
              "    </tr>\n",
              "    <tr>\n",
              "      <th>5</th>\n",
              "      <td>300000006</td>\n",
              "      <td>Ava</td>\n",
              "      <td>Coleman</td>\n",
              "      <td>Female</td>\n",
              "      <td>30</td>\n",
              "      <td>Wales</td>\n",
              "      <td>Blue Collar</td>\n",
              "      <td>09.Jan.15</td>\n",
              "      <td>122443.77</td>\n",
              "    </tr>\n",
              "    <tr>\n",
              "      <th>...</th>\n",
              "      <td>...</td>\n",
              "      <td>...</td>\n",
              "      <td>...</td>\n",
              "      <td>...</td>\n",
              "      <td>...</td>\n",
              "      <td>...</td>\n",
              "      <td>...</td>\n",
              "      <td>...</td>\n",
              "      <td>...</td>\n",
              "    </tr>\n",
              "    <tr>\n",
              "      <th>4009</th>\n",
              "      <td>200004010</td>\n",
              "      <td>Sam</td>\n",
              "      <td>Lewis</td>\n",
              "      <td>Male</td>\n",
              "      <td>64</td>\n",
              "      <td>Scotland</td>\n",
              "      <td>Other</td>\n",
              "      <td>30.Dec.15</td>\n",
              "      <td>19711.66</td>\n",
              "    </tr>\n",
              "    <tr>\n",
              "      <th>4010</th>\n",
              "      <td>200004011</td>\n",
              "      <td>Keith</td>\n",
              "      <td>Hughes</td>\n",
              "      <td>Male</td>\n",
              "      <td>52</td>\n",
              "      <td>Scotland</td>\n",
              "      <td>Blue Collar</td>\n",
              "      <td>30.Dec.15</td>\n",
              "      <td>56069.72</td>\n",
              "    </tr>\n",
              "    <tr>\n",
              "      <th>4011</th>\n",
              "      <td>200004012</td>\n",
              "      <td>Hannah</td>\n",
              "      <td>Springer</td>\n",
              "      <td>Female</td>\n",
              "      <td>50</td>\n",
              "      <td>Scotland</td>\n",
              "      <td>Other</td>\n",
              "      <td>30.Dec.15</td>\n",
              "      <td>59477.82</td>\n",
              "    </tr>\n",
              "    <tr>\n",
              "      <th>4012</th>\n",
              "      <td>200004013</td>\n",
              "      <td>Christian</td>\n",
              "      <td>Reid</td>\n",
              "      <td>Male</td>\n",
              "      <td>51</td>\n",
              "      <td>Scotland</td>\n",
              "      <td>Blue Collar</td>\n",
              "      <td>30.Dec.15</td>\n",
              "      <td>239.45</td>\n",
              "    </tr>\n",
              "    <tr>\n",
              "      <th>4013</th>\n",
              "      <td>300004014</td>\n",
              "      <td>Stephen</td>\n",
              "      <td>May</td>\n",
              "      <td>Male</td>\n",
              "      <td>33</td>\n",
              "      <td>Wales</td>\n",
              "      <td>Blue Collar</td>\n",
              "      <td>30.Dec.15</td>\n",
              "      <td>30293.19</td>\n",
              "    </tr>\n",
              "  </tbody>\n",
              "</table>\n",
              "<p>3296 rows × 9 columns</p>\n",
              "</div>"
            ],
            "text/plain": [
              "      Customer ID       Name  ... Date Joined    Balance\n",
              "1       400000002    Jasmine  ...   06.Jan.15   36919.73\n",
              "2       100000003       Liam  ...   07.Jan.15  101536.83\n",
              "3       300000004     Trevor  ...   08.Jan.15    1421.52\n",
              "4       100000005    Deirdre  ...   09.Jan.15   35639.79\n",
              "5       300000006        Ava  ...   09.Jan.15  122443.77\n",
              "...           ...        ...  ...         ...        ...\n",
              "4009    200004010        Sam  ...   30.Dec.15   19711.66\n",
              "4010    200004011      Keith  ...   30.Dec.15   56069.72\n",
              "4011    200004012     Hannah  ...   30.Dec.15   59477.82\n",
              "4012    200004013  Christian  ...   30.Dec.15     239.45\n",
              "4013    300004014    Stephen  ...   30.Dec.15   30293.19\n",
              "\n",
              "[3296 rows x 9 columns]"
            ]
          },
          "metadata": {
            "tags": []
          },
          "execution_count": 98
        }
      ]
    },
    {
      "cell_type": "code",
      "metadata": {
        "id": "77SODKLfsXmR",
        "colab_type": "code",
        "colab": {}
      },
      "source": [
        "#How to select specific rows and columns from a DataFrame\n",
        "\n",
        "Customerlocation=Customer.loc[Customer['Age']>29, 'Name']"
      ],
      "execution_count": 0,
      "outputs": []
    },
    {
      "cell_type": "code",
      "metadata": {
        "id": "kMXFyA4WtQMX",
        "colab_type": "code",
        "colab": {
          "base_uri": "https://localhost:8080/",
          "height": 118
        },
        "outputId": "a3972f7e-c130-4375-a868-2241c4a475d6"
      },
      "source": [
        "Customerlocation.head()"
      ],
      "execution_count": 105,
      "outputs": [
        {
          "output_type": "execute_result",
          "data": {
            "text/plain": [
              "1    Jasmine\n",
              "2       Liam\n",
              "3     Trevor\n",
              "4    Deirdre\n",
              "5        Ava\n",
              "Name: Name, dtype: object"
            ]
          },
          "metadata": {
            "tags": []
          },
          "execution_count": 105
        }
      ]
    },
    {
      "cell_type": "code",
      "metadata": {
        "id": "bIHBqeV6tWYZ",
        "colab_type": "code",
        "colab": {
          "base_uri": "https://localhost:8080/",
          "height": 136
        },
        "outputId": "48fc08b3-ce53-4d63-f255-1df148566b75"
      },
      "source": [
        "#Select rows from 1 to 3 and columns 1,2:\n",
        "Customer.iloc[0:3,0:2]"
      ],
      "execution_count": 106,
      "outputs": [
        {
          "output_type": "execute_result",
          "data": {
            "text/html": [
              "<div>\n",
              "<style scoped>\n",
              "    .dataframe tbody tr th:only-of-type {\n",
              "        vertical-align: middle;\n",
              "    }\n",
              "\n",
              "    .dataframe tbody tr th {\n",
              "        vertical-align: top;\n",
              "    }\n",
              "\n",
              "    .dataframe thead th {\n",
              "        text-align: right;\n",
              "    }\n",
              "</style>\n",
              "<table border=\"1\" class=\"dataframe\">\n",
              "  <thead>\n",
              "    <tr style=\"text-align: right;\">\n",
              "      <th></th>\n",
              "      <th>Customer ID</th>\n",
              "      <th>Name</th>\n",
              "    </tr>\n",
              "  </thead>\n",
              "  <tbody>\n",
              "    <tr>\n",
              "      <th>0</th>\n",
              "      <td>100000001</td>\n",
              "      <td>Simon</td>\n",
              "    </tr>\n",
              "    <tr>\n",
              "      <th>1</th>\n",
              "      <td>400000002</td>\n",
              "      <td>Jasmine</td>\n",
              "    </tr>\n",
              "    <tr>\n",
              "      <th>2</th>\n",
              "      <td>100000003</td>\n",
              "      <td>Liam</td>\n",
              "    </tr>\n",
              "  </tbody>\n",
              "</table>\n",
              "</div>"
            ],
            "text/plain": [
              "   Customer ID     Name\n",
              "0    100000001    Simon\n",
              "1    400000002  Jasmine\n",
              "2    100000003     Liam"
            ]
          },
          "metadata": {
            "tags": []
          },
          "execution_count": 106
        }
      ]
    },
    {
      "cell_type": "code",
      "metadata": {
        "id": "JqVgCFhft0KM",
        "colab_type": "code",
        "colab": {}
      },
      "source": [
        "Note:\n",
        "\n",
        "Select specific rows and/or columns using loc when using the row and column names\n",
        "Select specific rows and/or columns using iloc when using the positions in the table"
      ],
      "execution_count": 0,
      "outputs": []
    },
    {
      "cell_type": "code",
      "metadata": {
        "id": "GJu8z11qt8Lq",
        "colab_type": "code",
        "colab": {}
      },
      "source": [
        ""
      ],
      "execution_count": 0,
      "outputs": []
    }
  ]
}

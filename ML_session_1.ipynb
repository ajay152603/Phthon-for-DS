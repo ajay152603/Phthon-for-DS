{
  "nbformat": 4,
  "nbformat_minor": 0,
  "metadata": {
    "colab": {
      "name": "ML_session_1.ipynb",
      "provenance": [],
      "authorship_tag": "ABX9TyOKbrxJc18cDMkelnviBGc+",
      "include_colab_link": true
    },
    "kernelspec": {
      "name": "python3",
      "display_name": "Python 3"
    }
  },
  "cells": [
    {
      "cell_type": "markdown",
      "metadata": {
        "id": "view-in-github",
        "colab_type": "text"
      },
      "source": [
        "<a href=\"https://colab.research.google.com/github/ajay152603/Python-for-DS/blob/master/ML_session_1.ipynb\" target=\"_parent\"><img src=\"https://colab.research.google.com/assets/colab-badge.svg\" alt=\"Open In Colab\"/></a>"
      ]
    },
    {
      "cell_type": "markdown",
      "metadata": {
        "id": "X-RMa3phnsSm",
        "colab_type": "text"
      },
      "source": [
        "# Introduction to Machine Learning\n",
        "\n",
        "In this lecture, we plan to cover some of the machine learning principles and one or two algorithms."
      ]
    },
    {
      "cell_type": "markdown",
      "metadata": {
        "id": "KC27zQg0nvnj",
        "colab_type": "text"
      },
      "source": [
        "--------\n",
        "\n",
        "Loading libraries\n",
        "-------------\n"
      ]
    },
    {
      "cell_type": "code",
      "metadata": {
        "id": "D7KwknKTn9Rx",
        "colab_type": "code",
        "colab": {}
      },
      "source": [
        "import pandas as pd\n",
        "import numpy as np\n",
        "import matplotlib.pyplot as plt\n",
        "import seaborn as sns"
      ],
      "execution_count": 0,
      "outputs": []
    },
    {
      "cell_type": "code",
      "metadata": {
        "id": "HeMfhROUoP8Q",
        "colab_type": "code",
        "colab": {}
      },
      "source": [
        "# Loading the machine learning packages\n",
        "from xgboost import XGBClassifier\n",
        "import xgboost as xgb\n",
        "from sklearn.ensemble import AdaBoostClassifier, RandomForestRegressor, RandomForestClassifier #classification techniques\n",
        "from sklearn.model_selection import GridSearchCV, StratifiedKFold,train_test_split #\n",
        "from sklearn.metrics import mean_absolute_error,accuracy_score, confusion_matrix, classification_report,roc_auc_score,roc_curve\n",
        "from sklearn.preprocessing import StandardScaler\n",
        "from sklearn.impute import SimpleImputer"
      ],
      "execution_count": 0,
      "outputs": []
    },
    {
      "cell_type": "markdown",
      "metadata": {
        "id": "4BV1VntnqGvf",
        "colab_type": "text"
      },
      "source": [
        "# Visualizing overfitting"
      ]
    },
    {
      "cell_type": "code",
      "metadata": {
        "id": "4xOtmtSPqDCJ",
        "colab_type": "code",
        "outputId": "a1963de3-c8e6-45c7-db29-e7370c569813",
        "colab": {
          "base_uri": "https://localhost:8080/",
          "height": 343
        }
      },
      "source": [
        "# Loading the candy data from an url\n",
        "candy_url = \"https://raw.githubusercontent.com/shala2020/shala2020.github.io/master/Lecture_Materials/Google_Colab_Notebooks/MachineLearning/L1/candy-data.csv\"\n",
        "candy_data = pd.read_csv (candy_url)\n",
        "candy_data.head(10)"
      ],
      "execution_count": 123,
      "outputs": [
        {
          "output_type": "execute_result",
          "data": {
            "text/html": [
              "<div>\n",
              "<style scoped>\n",
              "    .dataframe tbody tr th:only-of-type {\n",
              "        vertical-align: middle;\n",
              "    }\n",
              "\n",
              "    .dataframe tbody tr th {\n",
              "        vertical-align: top;\n",
              "    }\n",
              "\n",
              "    .dataframe thead th {\n",
              "        text-align: right;\n",
              "    }\n",
              "</style>\n",
              "<table border=\"1\" class=\"dataframe\">\n",
              "  <thead>\n",
              "    <tr style=\"text-align: right;\">\n",
              "      <th></th>\n",
              "      <th>competitorname</th>\n",
              "      <th>chocolate</th>\n",
              "      <th>fruity</th>\n",
              "      <th>caramel</th>\n",
              "      <th>peanutyalmondy</th>\n",
              "      <th>nougat</th>\n",
              "      <th>crispedricewafer</th>\n",
              "      <th>hard</th>\n",
              "      <th>bar</th>\n",
              "      <th>pluribus</th>\n",
              "      <th>sugarpercent</th>\n",
              "      <th>pricepercent</th>\n",
              "      <th>winpercent</th>\n",
              "    </tr>\n",
              "  </thead>\n",
              "  <tbody>\n",
              "    <tr>\n",
              "      <th>0</th>\n",
              "      <td>100 Grand</td>\n",
              "      <td>1</td>\n",
              "      <td>0</td>\n",
              "      <td>1</td>\n",
              "      <td>0</td>\n",
              "      <td>0</td>\n",
              "      <td>1</td>\n",
              "      <td>0</td>\n",
              "      <td>1</td>\n",
              "      <td>0</td>\n",
              "      <td>0.732</td>\n",
              "      <td>0.860</td>\n",
              "      <td>66.971725</td>\n",
              "    </tr>\n",
              "    <tr>\n",
              "      <th>1</th>\n",
              "      <td>3 Musketeers</td>\n",
              "      <td>1</td>\n",
              "      <td>0</td>\n",
              "      <td>0</td>\n",
              "      <td>0</td>\n",
              "      <td>1</td>\n",
              "      <td>0</td>\n",
              "      <td>0</td>\n",
              "      <td>1</td>\n",
              "      <td>0</td>\n",
              "      <td>0.604</td>\n",
              "      <td>0.511</td>\n",
              "      <td>67.602936</td>\n",
              "    </tr>\n",
              "    <tr>\n",
              "      <th>2</th>\n",
              "      <td>One dime</td>\n",
              "      <td>0</td>\n",
              "      <td>0</td>\n",
              "      <td>0</td>\n",
              "      <td>0</td>\n",
              "      <td>0</td>\n",
              "      <td>0</td>\n",
              "      <td>0</td>\n",
              "      <td>0</td>\n",
              "      <td>0</td>\n",
              "      <td>0.011</td>\n",
              "      <td>0.116</td>\n",
              "      <td>32.261086</td>\n",
              "    </tr>\n",
              "    <tr>\n",
              "      <th>3</th>\n",
              "      <td>One quarter</td>\n",
              "      <td>0</td>\n",
              "      <td>0</td>\n",
              "      <td>0</td>\n",
              "      <td>0</td>\n",
              "      <td>0</td>\n",
              "      <td>0</td>\n",
              "      <td>0</td>\n",
              "      <td>0</td>\n",
              "      <td>0</td>\n",
              "      <td>0.011</td>\n",
              "      <td>0.511</td>\n",
              "      <td>46.116505</td>\n",
              "    </tr>\n",
              "    <tr>\n",
              "      <th>4</th>\n",
              "      <td>Air Heads</td>\n",
              "      <td>0</td>\n",
              "      <td>1</td>\n",
              "      <td>0</td>\n",
              "      <td>0</td>\n",
              "      <td>0</td>\n",
              "      <td>0</td>\n",
              "      <td>0</td>\n",
              "      <td>0</td>\n",
              "      <td>0</td>\n",
              "      <td>0.906</td>\n",
              "      <td>0.511</td>\n",
              "      <td>52.341465</td>\n",
              "    </tr>\n",
              "    <tr>\n",
              "      <th>5</th>\n",
              "      <td>Almond Joy</td>\n",
              "      <td>1</td>\n",
              "      <td>0</td>\n",
              "      <td>0</td>\n",
              "      <td>1</td>\n",
              "      <td>0</td>\n",
              "      <td>0</td>\n",
              "      <td>0</td>\n",
              "      <td>1</td>\n",
              "      <td>0</td>\n",
              "      <td>0.465</td>\n",
              "      <td>0.767</td>\n",
              "      <td>50.347546</td>\n",
              "    </tr>\n",
              "    <tr>\n",
              "      <th>6</th>\n",
              "      <td>Baby Ruth</td>\n",
              "      <td>1</td>\n",
              "      <td>0</td>\n",
              "      <td>1</td>\n",
              "      <td>1</td>\n",
              "      <td>1</td>\n",
              "      <td>0</td>\n",
              "      <td>0</td>\n",
              "      <td>1</td>\n",
              "      <td>0</td>\n",
              "      <td>0.604</td>\n",
              "      <td>0.767</td>\n",
              "      <td>56.914547</td>\n",
              "    </tr>\n",
              "    <tr>\n",
              "      <th>7</th>\n",
              "      <td>Boston Baked Beans</td>\n",
              "      <td>0</td>\n",
              "      <td>0</td>\n",
              "      <td>0</td>\n",
              "      <td>1</td>\n",
              "      <td>0</td>\n",
              "      <td>0</td>\n",
              "      <td>0</td>\n",
              "      <td>0</td>\n",
              "      <td>1</td>\n",
              "      <td>0.313</td>\n",
              "      <td>0.511</td>\n",
              "      <td>23.417824</td>\n",
              "    </tr>\n",
              "    <tr>\n",
              "      <th>8</th>\n",
              "      <td>Candy Corn</td>\n",
              "      <td>0</td>\n",
              "      <td>0</td>\n",
              "      <td>0</td>\n",
              "      <td>0</td>\n",
              "      <td>0</td>\n",
              "      <td>0</td>\n",
              "      <td>0</td>\n",
              "      <td>0</td>\n",
              "      <td>1</td>\n",
              "      <td>0.906</td>\n",
              "      <td>0.325</td>\n",
              "      <td>38.010963</td>\n",
              "    </tr>\n",
              "    <tr>\n",
              "      <th>9</th>\n",
              "      <td>Caramel Apple Pops</td>\n",
              "      <td>0</td>\n",
              "      <td>1</td>\n",
              "      <td>1</td>\n",
              "      <td>0</td>\n",
              "      <td>0</td>\n",
              "      <td>0</td>\n",
              "      <td>0</td>\n",
              "      <td>0</td>\n",
              "      <td>0</td>\n",
              "      <td>0.604</td>\n",
              "      <td>0.325</td>\n",
              "      <td>34.517681</td>\n",
              "    </tr>\n",
              "  </tbody>\n",
              "</table>\n",
              "</div>"
            ],
            "text/plain": [
              "       competitorname  chocolate  ...  pricepercent  winpercent\n",
              "0           100 Grand          1  ...         0.860   66.971725\n",
              "1        3 Musketeers          1  ...         0.511   67.602936\n",
              "2            One dime          0  ...         0.116   32.261086\n",
              "3         One quarter          0  ...         0.511   46.116505\n",
              "4           Air Heads          0  ...         0.511   52.341465\n",
              "5          Almond Joy          1  ...         0.767   50.347546\n",
              "6           Baby Ruth          1  ...         0.767   56.914547\n",
              "7  Boston Baked Beans          0  ...         0.511   23.417824\n",
              "8          Candy Corn          0  ...         0.325   38.010963\n",
              "9  Caramel Apple Pops          0  ...         0.325   34.517681\n",
              "\n",
              "[10 rows x 13 columns]"
            ]
          },
          "metadata": {
            "tags": []
          },
          "execution_count": 123
        }
      ]
    },
    {
      "cell_type": "code",
      "metadata": {
        "id": "bXPvLSnQqzl5",
        "colab_type": "code",
        "colab": {}
      },
      "source": [
        "# Extracting the features and label\n",
        "x = candy_data.drop(['winpercent', 'competitorname'], axis = 1)\n",
        "y = candy_data['winpercent']\n"
      ],
      "execution_count": 0,
      "outputs": []
    },
    {
      "cell_type": "code",
      "metadata": {
        "id": "fJaC2zcHrFSV",
        "colab_type": "code",
        "colab": {}
      },
      "source": [
        "# x.head(4)\n",
        "# y.head(5)"
      ],
      "execution_count": 0,
      "outputs": []
    },
    {
      "cell_type": "code",
      "metadata": {
        "id": "lo3kn-crrcsV",
        "colab_type": "code",
        "outputId": "03cdebe6-0547-493a-bbf9-aaef381105cf",
        "colab": {
          "base_uri": "https://localhost:8080/",
          "height": 50
        }
      },
      "source": [
        "# Splitting the data into train and test \n",
        "x_train, x_test,y_train,y_test = train_test_split(x,y,test_size = 0.2, random_state = 123)\n",
        "\n",
        "# Instantiating the classifier \n",
        "rfr = RandomForestRegressor(n_estimators= 30,\n",
        "                       random_state =1111,\n",
        "                       max_features =4)\n",
        "\n",
        "# Fitting the instantiator \n",
        "rfr.fit(x_train, y_train)\n",
        "\n",
        "print('The training error is {0:.2f}'.format(mean_absolute_error(y_train, rfr.predict(x_train))))\n",
        "print('The testing error is {0:.2f}'.format(mean_absolute_error(y_test, rfr.predict(x_test))))"
      ],
      "execution_count": 126,
      "outputs": [
        {
          "output_type": "stream",
          "text": [
            "The training error is 4.02\n",
            "The testing error is 8.56\n"
          ],
          "name": "stdout"
        }
      ]
    },
    {
      "cell_type": "markdown",
      "metadata": {
        "id": "KemzDOrQmJpo",
        "colab_type": "text"
      },
      "source": [
        "# Visualizing the effect of parameter tuning"
      ]
    },
    {
      "cell_type": "code",
      "metadata": {
        "id": "kfSzWytbmHCZ",
        "colab_type": "code",
        "colab": {}
      },
      "source": [
        ""
      ],
      "execution_count": 0,
      "outputs": []
    },
    {
      "cell_type": "code",
      "metadata": {
        "id": "iLKFHVh5jy1z",
        "colab_type": "code",
        "outputId": "d3199de2-4fdf-4c46-9866-6cd9b0c4f106",
        "colab": {
          "base_uri": "https://localhost:8080/",
          "height": 34
        }
      },
      "source": [
        "# Loading the tic_tac data from an url \n",
        "tic_tac_url = \"https://raw.githubusercontent.com/shala2020/shala2020.github.io/master/Lecture_Materials/Google_Colab_Notebooks/MachineLearning/L1/tic-tac-toe_csv.csv\"\n",
        "tic_tac_data = pd.read_csv(tic_tac_url)\n",
        "\n",
        "# Printing the dimensions of tic tac data \n",
        "tic_tac_data.shape"
      ],
      "execution_count": 127,
      "outputs": [
        {
          "output_type": "execute_result",
          "data": {
            "text/plain": [
              "(958, 10)"
            ]
          },
          "metadata": {
            "tags": []
          },
          "execution_count": 127
        }
      ]
    },
    {
      "cell_type": "code",
      "metadata": {
        "id": "_B64Hxm-mWWk",
        "colab_type": "code",
        "outputId": "f847bae5-530b-4b96-f221-ab0b7c455db7",
        "colab": {
          "base_uri": "https://localhost:8080/",
          "height": 195
        }
      },
      "source": [
        "# Printing the first few rows of the tic tac data\n",
        "tic_tac_data.head()\n",
        "# Observe the column named class "
      ],
      "execution_count": 128,
      "outputs": [
        {
          "output_type": "execute_result",
          "data": {
            "text/html": [
              "<div>\n",
              "<style scoped>\n",
              "    .dataframe tbody tr th:only-of-type {\n",
              "        vertical-align: middle;\n",
              "    }\n",
              "\n",
              "    .dataframe tbody tr th {\n",
              "        vertical-align: top;\n",
              "    }\n",
              "\n",
              "    .dataframe thead th {\n",
              "        text-align: right;\n",
              "    }\n",
              "</style>\n",
              "<table border=\"1\" class=\"dataframe\">\n",
              "  <thead>\n",
              "    <tr style=\"text-align: right;\">\n",
              "      <th></th>\n",
              "      <th>TL</th>\n",
              "      <th>TM</th>\n",
              "      <th>TR</th>\n",
              "      <th>ML</th>\n",
              "      <th>MM</th>\n",
              "      <th>MR</th>\n",
              "      <th>BL</th>\n",
              "      <th>BM</th>\n",
              "      <th>BR</th>\n",
              "      <th>class</th>\n",
              "    </tr>\n",
              "  </thead>\n",
              "  <tbody>\n",
              "    <tr>\n",
              "      <th>0</th>\n",
              "      <td>x</td>\n",
              "      <td>x</td>\n",
              "      <td>x</td>\n",
              "      <td>x</td>\n",
              "      <td>o</td>\n",
              "      <td>o</td>\n",
              "      <td>x</td>\n",
              "      <td>o</td>\n",
              "      <td>o</td>\n",
              "      <td>True</td>\n",
              "    </tr>\n",
              "    <tr>\n",
              "      <th>1</th>\n",
              "      <td>x</td>\n",
              "      <td>x</td>\n",
              "      <td>x</td>\n",
              "      <td>x</td>\n",
              "      <td>o</td>\n",
              "      <td>o</td>\n",
              "      <td>o</td>\n",
              "      <td>x</td>\n",
              "      <td>o</td>\n",
              "      <td>True</td>\n",
              "    </tr>\n",
              "    <tr>\n",
              "      <th>2</th>\n",
              "      <td>x</td>\n",
              "      <td>x</td>\n",
              "      <td>x</td>\n",
              "      <td>x</td>\n",
              "      <td>o</td>\n",
              "      <td>o</td>\n",
              "      <td>o</td>\n",
              "      <td>o</td>\n",
              "      <td>x</td>\n",
              "      <td>True</td>\n",
              "    </tr>\n",
              "    <tr>\n",
              "      <th>3</th>\n",
              "      <td>x</td>\n",
              "      <td>x</td>\n",
              "      <td>x</td>\n",
              "      <td>x</td>\n",
              "      <td>o</td>\n",
              "      <td>o</td>\n",
              "      <td>o</td>\n",
              "      <td>b</td>\n",
              "      <td>b</td>\n",
              "      <td>True</td>\n",
              "    </tr>\n",
              "    <tr>\n",
              "      <th>4</th>\n",
              "      <td>x</td>\n",
              "      <td>x</td>\n",
              "      <td>x</td>\n",
              "      <td>x</td>\n",
              "      <td>o</td>\n",
              "      <td>o</td>\n",
              "      <td>b</td>\n",
              "      <td>o</td>\n",
              "      <td>b</td>\n",
              "      <td>True</td>\n",
              "    </tr>\n",
              "  </tbody>\n",
              "</table>\n",
              "</div>"
            ],
            "text/plain": [
              "  TL TM TR ML MM MR BL BM BR  class\n",
              "0  x  x  x  x  o  o  x  o  o   True\n",
              "1  x  x  x  x  o  o  o  x  o   True\n",
              "2  x  x  x  x  o  o  o  o  x   True\n",
              "3  x  x  x  x  o  o  o  b  b   True\n",
              "4  x  x  x  x  o  o  b  o  b   True"
            ]
          },
          "metadata": {
            "tags": []
          },
          "execution_count": 128
        }
      ]
    },
    {
      "cell_type": "code",
      "metadata": {
        "id": "fXC_6rVImpWN",
        "colab_type": "code",
        "colab": {}
      },
      "source": [
        "# Renaming the class column as target \n",
        "tic_tac_data.rename(columns={'class': 'target'},inplace= True)\n",
        "# class is a reserved word"
      ],
      "execution_count": 0,
      "outputs": []
    },
    {
      "cell_type": "code",
      "metadata": {
        "id": "fCP3pkahm0Gp",
        "colab_type": "code",
        "outputId": "6da7aff6-8890-447d-f6f4-3b0d14de2bc5",
        "colab": {
          "base_uri": "https://localhost:8080/",
          "height": 195
        }
      },
      "source": [
        "# Printing the head of the tic tac data \n",
        "tic_tac_data.head()\n",
        "# Observe the class is renamed as target \n"
      ],
      "execution_count": 130,
      "outputs": [
        {
          "output_type": "execute_result",
          "data": {
            "text/html": [
              "<div>\n",
              "<style scoped>\n",
              "    .dataframe tbody tr th:only-of-type {\n",
              "        vertical-align: middle;\n",
              "    }\n",
              "\n",
              "    .dataframe tbody tr th {\n",
              "        vertical-align: top;\n",
              "    }\n",
              "\n",
              "    .dataframe thead th {\n",
              "        text-align: right;\n",
              "    }\n",
              "</style>\n",
              "<table border=\"1\" class=\"dataframe\">\n",
              "  <thead>\n",
              "    <tr style=\"text-align: right;\">\n",
              "      <th></th>\n",
              "      <th>TL</th>\n",
              "      <th>TM</th>\n",
              "      <th>TR</th>\n",
              "      <th>ML</th>\n",
              "      <th>MM</th>\n",
              "      <th>MR</th>\n",
              "      <th>BL</th>\n",
              "      <th>BM</th>\n",
              "      <th>BR</th>\n",
              "      <th>target</th>\n",
              "    </tr>\n",
              "  </thead>\n",
              "  <tbody>\n",
              "    <tr>\n",
              "      <th>0</th>\n",
              "      <td>x</td>\n",
              "      <td>x</td>\n",
              "      <td>x</td>\n",
              "      <td>x</td>\n",
              "      <td>o</td>\n",
              "      <td>o</td>\n",
              "      <td>x</td>\n",
              "      <td>o</td>\n",
              "      <td>o</td>\n",
              "      <td>True</td>\n",
              "    </tr>\n",
              "    <tr>\n",
              "      <th>1</th>\n",
              "      <td>x</td>\n",
              "      <td>x</td>\n",
              "      <td>x</td>\n",
              "      <td>x</td>\n",
              "      <td>o</td>\n",
              "      <td>o</td>\n",
              "      <td>o</td>\n",
              "      <td>x</td>\n",
              "      <td>o</td>\n",
              "      <td>True</td>\n",
              "    </tr>\n",
              "    <tr>\n",
              "      <th>2</th>\n",
              "      <td>x</td>\n",
              "      <td>x</td>\n",
              "      <td>x</td>\n",
              "      <td>x</td>\n",
              "      <td>o</td>\n",
              "      <td>o</td>\n",
              "      <td>o</td>\n",
              "      <td>o</td>\n",
              "      <td>x</td>\n",
              "      <td>True</td>\n",
              "    </tr>\n",
              "    <tr>\n",
              "      <th>3</th>\n",
              "      <td>x</td>\n",
              "      <td>x</td>\n",
              "      <td>x</td>\n",
              "      <td>x</td>\n",
              "      <td>o</td>\n",
              "      <td>o</td>\n",
              "      <td>o</td>\n",
              "      <td>b</td>\n",
              "      <td>b</td>\n",
              "      <td>True</td>\n",
              "    </tr>\n",
              "    <tr>\n",
              "      <th>4</th>\n",
              "      <td>x</td>\n",
              "      <td>x</td>\n",
              "      <td>x</td>\n",
              "      <td>x</td>\n",
              "      <td>o</td>\n",
              "      <td>o</td>\n",
              "      <td>b</td>\n",
              "      <td>o</td>\n",
              "      <td>b</td>\n",
              "      <td>True</td>\n",
              "    </tr>\n",
              "  </tbody>\n",
              "</table>\n",
              "</div>"
            ],
            "text/plain": [
              "  TL TM TR ML MM MR BL BM BR  target\n",
              "0  x  x  x  x  o  o  x  o  o    True\n",
              "1  x  x  x  x  o  o  o  x  o    True\n",
              "2  x  x  x  x  o  o  o  o  x    True\n",
              "3  x  x  x  x  o  o  o  b  b    True\n",
              "4  x  x  x  x  o  o  b  o  b    True"
            ]
          },
          "metadata": {
            "tags": []
          },
          "execution_count": 130
        }
      ]
    },
    {
      "cell_type": "code",
      "metadata": {
        "id": "rElB-y9DnBxh",
        "colab_type": "code",
        "outputId": "454d3e72-aa73-4089-fc82-09f10ffa44cc",
        "colab": {
          "base_uri": "https://localhost:8080/",
          "height": 67
        }
      },
      "source": [
        "# Creating a mapping for x and o in the tic tac data \n",
        "mapping_for_moves = {'x':1, \"o\":0}  # For b, we put mean of the data\n",
        "\n",
        "# Counting the unique values in target column \n",
        "tic_tac_data.target.value_counts()"
      ],
      "execution_count": 131,
      "outputs": [
        {
          "output_type": "execute_result",
          "data": {
            "text/plain": [
              "True     626\n",
              "False    332\n",
              "Name: target, dtype: int64"
            ]
          },
          "metadata": {
            "tags": []
          },
          "execution_count": 131
        }
      ]
    },
    {
      "cell_type": "code",
      "metadata": {
        "id": "jm5wmLJ2nvov",
        "colab_type": "code",
        "outputId": "31fb8957-9242-4020-a7fb-0a3024161c8f",
        "colab": {
          "base_uri": "https://localhost:8080/",
          "height": 34
        }
      },
      "source": [
        "mapping_for_moves"
      ],
      "execution_count": 132,
      "outputs": [
        {
          "output_type": "execute_result",
          "data": {
            "text/plain": [
              "{'o': 0, 'x': 1}"
            ]
          },
          "metadata": {
            "tags": []
          },
          "execution_count": 132
        }
      ]
    },
    {
      "cell_type": "code",
      "metadata": {
        "id": "9ePdaWYJn_dD",
        "colab_type": "code",
        "colab": {}
      },
      "source": [
        "tic_tac_data.target=tic_tac_data.target.apply(lambda x: 0 if x == False else 1)"
      ],
      "execution_count": 0,
      "outputs": []
    },
    {
      "cell_type": "code",
      "metadata": {
        "id": "-QFhBZYZpOzO",
        "colab_type": "code",
        "outputId": "3e9a7d0b-0679-4022-c5e1-e8117197f25e",
        "colab": {
          "base_uri": "https://localhost:8080/",
          "height": 67
        }
      },
      "source": [
        "tic_tac_data.target.value_counts()"
      ],
      "execution_count": 134,
      "outputs": [
        {
          "output_type": "execute_result",
          "data": {
            "text/plain": [
              "1    626\n",
              "0    332\n",
              "Name: target, dtype: int64"
            ]
          },
          "metadata": {
            "tags": []
          },
          "execution_count": 134
        }
      ]
    },
    {
      "cell_type": "code",
      "metadata": {
        "id": "f58ovqfzpOvY",
        "colab_type": "code",
        "colab": {}
      },
      "source": [
        "\n",
        "y= tic_tac_data['target']\n",
        "\n"
      ],
      "execution_count": 0,
      "outputs": []
    },
    {
      "cell_type": "code",
      "metadata": {
        "id": "zV_X-VHGpOnW",
        "colab_type": "code",
        "colab": {}
      },
      "source": [
        "tic_tac_data =tic_tac_data.drop(['target'], axis=1)\n"
      ],
      "execution_count": 0,
      "outputs": []
    },
    {
      "cell_type": "code",
      "metadata": {
        "id": "EgX1g9DBpOT1",
        "colab_type": "code",
        "colab": {}
      },
      "source": [
        "# Creating a mapping for  tic tac data \n",
        "for i in  tic_tac_data.columns :\n",
        "  tic_tac_data[i] = tic_tac_data[i].map(mapping_for_moves)\n"
      ],
      "execution_count": 0,
      "outputs": []
    },
    {
      "cell_type": "code",
      "metadata": {
        "id": "8g0oTS9vtWyd",
        "colab_type": "code",
        "outputId": "7bb8e161-60db-4c2a-e6e2-581f7b3affb7",
        "colab": {
          "base_uri": "https://localhost:8080/",
          "height": 195
        }
      },
      "source": [
        "# Printing the head of the tic tac data \n",
        "tic_tac_data.head()\n",
        "# Observe the 0,1 and NaN in the tic tac data "
      ],
      "execution_count": 138,
      "outputs": [
        {
          "output_type": "execute_result",
          "data": {
            "text/html": [
              "<div>\n",
              "<style scoped>\n",
              "    .dataframe tbody tr th:only-of-type {\n",
              "        vertical-align: middle;\n",
              "    }\n",
              "\n",
              "    .dataframe tbody tr th {\n",
              "        vertical-align: top;\n",
              "    }\n",
              "\n",
              "    .dataframe thead th {\n",
              "        text-align: right;\n",
              "    }\n",
              "</style>\n",
              "<table border=\"1\" class=\"dataframe\">\n",
              "  <thead>\n",
              "    <tr style=\"text-align: right;\">\n",
              "      <th></th>\n",
              "      <th>TL</th>\n",
              "      <th>TM</th>\n",
              "      <th>TR</th>\n",
              "      <th>ML</th>\n",
              "      <th>MM</th>\n",
              "      <th>MR</th>\n",
              "      <th>BL</th>\n",
              "      <th>BM</th>\n",
              "      <th>BR</th>\n",
              "    </tr>\n",
              "  </thead>\n",
              "  <tbody>\n",
              "    <tr>\n",
              "      <th>0</th>\n",
              "      <td>1.0</td>\n",
              "      <td>1.0</td>\n",
              "      <td>1.0</td>\n",
              "      <td>1.0</td>\n",
              "      <td>0.0</td>\n",
              "      <td>0.0</td>\n",
              "      <td>1.0</td>\n",
              "      <td>0.0</td>\n",
              "      <td>0.0</td>\n",
              "    </tr>\n",
              "    <tr>\n",
              "      <th>1</th>\n",
              "      <td>1.0</td>\n",
              "      <td>1.0</td>\n",
              "      <td>1.0</td>\n",
              "      <td>1.0</td>\n",
              "      <td>0.0</td>\n",
              "      <td>0.0</td>\n",
              "      <td>0.0</td>\n",
              "      <td>1.0</td>\n",
              "      <td>0.0</td>\n",
              "    </tr>\n",
              "    <tr>\n",
              "      <th>2</th>\n",
              "      <td>1.0</td>\n",
              "      <td>1.0</td>\n",
              "      <td>1.0</td>\n",
              "      <td>1.0</td>\n",
              "      <td>0.0</td>\n",
              "      <td>0.0</td>\n",
              "      <td>0.0</td>\n",
              "      <td>0.0</td>\n",
              "      <td>1.0</td>\n",
              "    </tr>\n",
              "    <tr>\n",
              "      <th>3</th>\n",
              "      <td>1.0</td>\n",
              "      <td>1.0</td>\n",
              "      <td>1.0</td>\n",
              "      <td>1.0</td>\n",
              "      <td>0.0</td>\n",
              "      <td>0.0</td>\n",
              "      <td>0.0</td>\n",
              "      <td>NaN</td>\n",
              "      <td>NaN</td>\n",
              "    </tr>\n",
              "    <tr>\n",
              "      <th>4</th>\n",
              "      <td>1.0</td>\n",
              "      <td>1.0</td>\n",
              "      <td>1.0</td>\n",
              "      <td>1.0</td>\n",
              "      <td>0.0</td>\n",
              "      <td>0.0</td>\n",
              "      <td>NaN</td>\n",
              "      <td>0.0</td>\n",
              "      <td>NaN</td>\n",
              "    </tr>\n",
              "  </tbody>\n",
              "</table>\n",
              "</div>"
            ],
            "text/plain": [
              "    TL   TM   TR   ML   MM   MR   BL   BM   BR\n",
              "0  1.0  1.0  1.0  1.0  0.0  0.0  1.0  0.0  0.0\n",
              "1  1.0  1.0  1.0  1.0  0.0  0.0  0.0  1.0  0.0\n",
              "2  1.0  1.0  1.0  1.0  0.0  0.0  0.0  0.0  1.0\n",
              "3  1.0  1.0  1.0  1.0  0.0  0.0  0.0  NaN  NaN\n",
              "4  1.0  1.0  1.0  1.0  0.0  0.0  NaN  0.0  NaN"
            ]
          },
          "metadata": {
            "tags": []
          },
          "execution_count": 138
        }
      ]
    },
    {
      "cell_type": "code",
      "metadata": {
        "id": "XH2L1ulrtWtg",
        "colab_type": "code",
        "colab": {}
      },
      "source": [
        "# Imputing the missing valus in the features \n",
        "x = SimpleImputer().fit_transform(tic_tac_data)"
      ],
      "execution_count": 0,
      "outputs": []
    },
    {
      "cell_type": "code",
      "metadata": {
        "id": "8uIyiTkNvNYf",
        "colab_type": "code",
        "colab": {}
      },
      "source": [
        "x_train, x_test, y_train,  y_test = train_test_split(x,y, test_size = 0.20 , random_state =123)"
      ],
      "execution_count": 0,
      "outputs": []
    },
    {
      "cell_type": "code",
      "metadata": {
        "id": "z4LZnPGLvxiW",
        "colab_type": "code",
        "colab": {}
      },
      "source": [
        "from sklearn.metrics import accuracy_score"
      ],
      "execution_count": 0,
      "outputs": []
    },
    {
      "cell_type": "code",
      "metadata": {
        "id": "v9Rt80qW5gk4",
        "colab_type": "code",
        "outputId": "24f28eb4-1be1-4672-847c-e2a930f6f721",
        "colab": {
          "base_uri": "https://localhost:8080/",
          "height": 50
        }
      },
      "source": [
        "test_scores, train_scores = [] , []\n",
        "for i in [1, 2, 3, 4, 5, 10, 20, 50]:\n",
        "  rfc = RandomForestClassifier(n_estimators=i, random_state=1111)\n",
        "  rfc.fit(x_train, y_train) # print(rfc)\n",
        "\n",
        "  train_predictions = rfc.predict(x_train)\n",
        "  test_predictions = rfc.predict(x_test)\n",
        "\n",
        "  train_scores.append(round(accuracy_score(y_train, train_predictions), 2))\n",
        "  test_scores.append(round(accuracy_score(y_test, test_predictions),2))\n",
        "\n",
        "# Print the train and test scores.\n",
        "print(\"The training scores were: {}\".format(train_scores))\n",
        "print(\"The testing scores were: {}\".format(test_scores))\n",
        "# plot the loss as well "
      ],
      "execution_count": 142,
      "outputs": [
        {
          "output_type": "stream",
          "text": [
            "The training scores were: [0.95, 0.93, 0.98, 0.99, 0.99, 1.0, 1.0, 1.0]\n",
            "The testing scores were: [0.77, 0.8, 0.89, 0.89, 0.88, 0.96, 0.99, 1.0]\n"
          ],
          "name": "stdout"
        }
      ]
    },
    {
      "cell_type": "code",
      "metadata": {
        "id": "e9THfvwg7shN",
        "colab_type": "code",
        "outputId": "cc925365-f42c-4ffe-dd01-5fab973d9923",
        "colab": {
          "base_uri": "https://localhost:8080/",
          "height": 282
        }
      },
      "source": [
        "   z = [1, 2, 3, 4, 5, 10, 20, 50]\n",
        "   plt.plot( z , train_scores, linewidth = 2 )\n",
        "   plt.plot( z , test_scores, linewidth = 2 )\n",
        "   plt.legend(['train_score', 'test_score'], loc='lower right')\n"
      ],
      "execution_count": 143,
      "outputs": [
        {
          "output_type": "execute_result",
          "data": {
            "text/plain": [
              "<matplotlib.legend.Legend at 0x7f7a3e66c908>"
            ]
          },
          "metadata": {
            "tags": []
          },
          "execution_count": 143
        },
        {
          "output_type": "display_data",
          "data": {
            "image/png": "[encoded data removed]",
            "text/plain": [
              "<Figure size 432x288 with 1 Axes>"
            ]
          },
          "metadata": {
            "tags": [],
            "needs_background": "light"
          }
        }
      ]
    },
    {
      "cell_type": "markdown",
      "metadata": {
        "id": "u5bwziF5_VE3",
        "colab_type": "text"
      },
      "source": [
        "# Visualizing the effect of feature normalization\n",
        "-----------------------------------"
      ]
    },
    {
      "cell_type": "code",
      "metadata": {
        "id": "PjJETKmv_Y3f",
        "colab_type": "code",
        "outputId": "deb66ba4-a77f-4c05-8cd4-9a2e22932b76",
        "colab": {
          "base_uri": "https://localhost:8080/",
          "height": 0
        }
      },
      "source": [
        "toy_url = \"https://raw.githubusercontent.com/shala2020/shala2020.github.io/master/Lecture_Materials/Google_Colab_Notebooks/MachineLearning/L1/toy_data.csv\"\n",
        "data_set = pd.read_csv(toy_url) \n",
        "data_set.head() "
      ],
      "execution_count": 144,
      "outputs": [
        {
          "output_type": "execute_result",
          "data": {
            "text/html": [
              "<div>\n",
              "<style scoped>\n",
              "    .dataframe tbody tr th:only-of-type {\n",
              "        vertical-align: middle;\n",
              "    }\n",
              "\n",
              "    .dataframe tbody tr th {\n",
              "        vertical-align: top;\n",
              "    }\n",
              "\n",
              "    .dataframe thead th {\n",
              "        text-align: right;\n",
              "    }\n",
              "</style>\n",
              "<table border=\"1\" class=\"dataframe\">\n",
              "  <thead>\n",
              "    <tr style=\"text-align: right;\">\n",
              "      <th></th>\n",
              "      <th>Country</th>\n",
              "      <th>Age</th>\n",
              "      <th>Salary</th>\n",
              "      <th>Purchased</th>\n",
              "    </tr>\n",
              "  </thead>\n",
              "  <tbody>\n",
              "    <tr>\n",
              "      <th>0</th>\n",
              "      <td>France</td>\n",
              "      <td>44</td>\n",
              "      <td>72000</td>\n",
              "      <td>No</td>\n",
              "    </tr>\n",
              "    <tr>\n",
              "      <th>1</th>\n",
              "      <td>Spain</td>\n",
              "      <td>27</td>\n",
              "      <td>48000</td>\n",
              "      <td>Yes</td>\n",
              "    </tr>\n",
              "    <tr>\n",
              "      <th>2</th>\n",
              "      <td>Germany</td>\n",
              "      <td>30</td>\n",
              "      <td>54000</td>\n",
              "      <td>No</td>\n",
              "    </tr>\n",
              "    <tr>\n",
              "      <th>3</th>\n",
              "      <td>Spain</td>\n",
              "      <td>38</td>\n",
              "      <td>61000</td>\n",
              "      <td>No</td>\n",
              "    </tr>\n",
              "    <tr>\n",
              "      <th>4</th>\n",
              "      <td>Germany</td>\n",
              "      <td>40</td>\n",
              "      <td>1000</td>\n",
              "      <td>Yes</td>\n",
              "    </tr>\n",
              "  </tbody>\n",
              "</table>\n",
              "</div>"
            ],
            "text/plain": [
              "   Country  Age  Salary Purchased\n",
              "0   France   44   72000        No\n",
              "1    Spain   27   48000       Yes\n",
              "2  Germany   30   54000        No\n",
              "3    Spain   38   61000        No\n",
              "4  Germany   40    1000       Yes"
            ]
          },
          "metadata": {
            "tags": []
          },
          "execution_count": 144
        }
      ]
    },
    {
      "cell_type": "code",
      "metadata": {
        "id": "k3znX6j4_ofP",
        "colab_type": "code",
        "outputId": "6ea4640c-c852-49da-f37d-0386bb4baa62",
        "colab": {
          "base_uri": "https://localhost:8080/",
          "height": 0
        }
      },
      "source": [
        "data_set.hist()"
      ],
      "execution_count": 145,
      "outputs": [
        {
          "output_type": "execute_result",
          "data": {
            "text/plain": [
              "array([[<matplotlib.axes._subplots.AxesSubplot object at 0x7f7a3e706080>,\n",
              "        <matplotlib.axes._subplots.AxesSubplot object at 0x7f7a3c6de550>]],\n",
              "      dtype=object)"
            ]
          },
          "metadata": {
            "tags": []
          },
          "execution_count": 145
        },
        {
          "output_type": "display_data",
          "data": {
            "image/png": "[encoded data removed]",
            "text/plain": [
              "<Figure size 432x288 with 2 Axes>"
            ]
          },
          "metadata": {
            "tags": [],
            "needs_background": "light"
          }
        }
      ]
    },
    {
      "cell_type": "code",
      "metadata": {
        "id": "971M_XLP_zrq",
        "colab_type": "code",
        "colab": {}
      },
      "source": [
        "from sklearn import preprocessing "
      ],
      "execution_count": 0,
      "outputs": []
    },
    {
      "cell_type": "code",
      "metadata": {
        "id": "JBUQOCHf_7_A",
        "colab_type": "code",
        "outputId": "7e1604e1-4086-4146-a11d-b3b6f1b28608",
        "colab": {
          "base_uri": "https://localhost:8080/",
          "height": 0
        }
      },
      "source": [
        "\n",
        "# here Features - Age and Salary columns  \n",
        "# are taken using slicing \n",
        "# to handle values with varying magnitude \n",
        "x = data_set.iloc[ :, 1:3].values\n",
        "\n",
        "min_max_scaler = preprocessing.MinMaxScaler(feature_range =(0, 1)) \n",
        "x_after_min_max_scaler = min_max_scaler.fit_transform(x) \n",
        "print (\"\\nAfter min max Scaling : \\n \\n\", x_after_min_max_scaler) \n"
      ],
      "execution_count": 147,
      "outputs": [
        {
          "output_type": "stream",
          "text": [
            "\n",
            "After min max Scaling : \n",
            " \n",
            " [[0.33333333 0.86585366]\n",
            " [0.         0.57317073]\n",
            " [0.05882353 0.64634146]\n",
            " [0.21568627 0.73170732]\n",
            " [0.25490196 0.        ]\n",
            " [0.15686275 0.69512195]\n",
            " [1.         0.62195122]\n",
            " [0.41176471 0.95121951]\n",
            " [0.45098039 1.        ]\n",
            " [0.19607843 0.80487805]]\n"
          ],
          "name": "stdout"
        }
      ]
    },
    {
      "cell_type": "code",
      "metadata": {
        "id": "FfJTqi4hAlQm",
        "colab_type": "code",
        "outputId": "bbe36b2d-0b16-4627-c00a-cb101e94b697",
        "colab": {
          "base_uri": "https://localhost:8080/",
          "height": 0
        }
      },
      "source": [
        "standardization =preprocessing.StandardScaler()\n",
        "x_after_standardization =standardization.fit_transform(x)\n",
        "print (\"\\nAfter Standardisation : \\n\", x_after_standardization) "
      ],
      "execution_count": 148,
      "outputs": [
        {
          "output_type": "stream",
          "text": [
            "\n",
            "After Standardisation : \n",
            " [[ 0.09536935  0.66527061]\n",
            " [-1.15176827 -0.43586695]\n",
            " [-0.93168516 -0.16058256]\n",
            " [-0.34479687  0.16058256]\n",
            " [-0.1980748  -2.59226136]\n",
            " [-0.56487998  0.02294037]\n",
            " [ 2.58964459 -0.25234403]\n",
            " [ 0.38881349  0.98643574]\n",
            " [ 0.53553557  1.16995867]\n",
            " [-0.41815791  0.43586695]]\n"
          ],
          "name": "stdout"
        }
      ]
    },
    {
      "cell_type": "markdown",
      "metadata": {
        "id": "2OmOssFZFtRK",
        "colab_type": "text"
      },
      "source": [
        "# Extreme Gradient Boosting with XGBoost"
      ]
    },
    {
      "cell_type": "code",
      "metadata": {
        "id": "iz3mZ6DpFvKi",
        "colab_type": "code",
        "colab": {}
      },
      "source": [
        "# Loading the dataset\n",
        "diabetes_url = \"https://raw.githubusercontent.com/shala2020/shala2020.github.io/master/Lecture_Materials/Google_Colab_Notebooks/MachineLearning/L1/diabetes.csv\"\n",
        "diabetes_data = pd.read_csv(diabetes_url)"
      ],
      "execution_count": 0,
      "outputs": []
    },
    {
      "cell_type": "code",
      "metadata": {
        "id": "aBJ6G59QF0sK",
        "colab_type": "code",
        "outputId": "cdc4773c-f299-4926-fae3-d7653ec0870b",
        "colab": {
          "base_uri": "https://localhost:8080/",
          "height": 67
        }
      },
      "source": [
        "# Printing the columns of the data \n",
        "diabetes_data.columns"
      ],
      "execution_count": 150,
      "outputs": [
        {
          "output_type": "execute_result",
          "data": {
            "text/plain": [
              "Index(['pregnancies', 'glucose', 'diastolic', 'triceps', 'insulin', 'bmi',\n",
              "       'dpf', 'age', 'diabetes'],\n",
              "      dtype='object')"
            ]
          },
          "metadata": {
            "tags": []
          },
          "execution_count": 150
        }
      ]
    },
    {
      "cell_type": "code",
      "metadata": {
        "id": "68CaqKtbF4CP",
        "colab_type": "code",
        "outputId": "059c6d80-7c05-43b0-d32c-6ade557d16d6",
        "colab": {
          "base_uri": "https://localhost:8080/",
          "height": 34
        }
      },
      "source": [
        "# Printing the shape of the data \n",
        "diabetes_data.shape"
      ],
      "execution_count": 151,
      "outputs": [
        {
          "output_type": "execute_result",
          "data": {
            "text/plain": [
              "(768, 9)"
            ]
          },
          "metadata": {
            "tags": []
          },
          "execution_count": 151
        }
      ]
    },
    {
      "cell_type": "code",
      "metadata": {
        "id": "UTquDRdVGAFz",
        "colab_type": "code",
        "outputId": "4da53319-f5c3-42d2-bdd9-347d9c8ca3e5",
        "colab": {
          "base_uri": "https://localhost:8080/",
          "height": 166
        }
      },
      "source": [
        "# Print the first few rows of the data \n",
        "diabetes_data.head(4)\n",
        "#diabetes_data.iloc[[50,100,150]]"
      ],
      "execution_count": 152,
      "outputs": [
        {
          "output_type": "execute_result",
          "data": {
            "text/html": [
              "<div>\n",
              "<style scoped>\n",
              "    .dataframe tbody tr th:only-of-type {\n",
              "        vertical-align: middle;\n",
              "    }\n",
              "\n",
              "    .dataframe tbody tr th {\n",
              "        vertical-align: top;\n",
              "    }\n",
              "\n",
              "    .dataframe thead th {\n",
              "        text-align: right;\n",
              "    }\n",
              "</style>\n",
              "<table border=\"1\" class=\"dataframe\">\n",
              "  <thead>\n",
              "    <tr style=\"text-align: right;\">\n",
              "      <th></th>\n",
              "      <th>pregnancies</th>\n",
              "      <th>glucose</th>\n",
              "      <th>diastolic</th>\n",
              "      <th>triceps</th>\n",
              "      <th>insulin</th>\n",
              "      <th>bmi</th>\n",
              "      <th>dpf</th>\n",
              "      <th>age</th>\n",
              "      <th>diabetes</th>\n",
              "    </tr>\n",
              "  </thead>\n",
              "  <tbody>\n",
              "    <tr>\n",
              "      <th>0</th>\n",
              "      <td>6</td>\n",
              "      <td>148</td>\n",
              "      <td>72</td>\n",
              "      <td>35</td>\n",
              "      <td>0</td>\n",
              "      <td>33.6</td>\n",
              "      <td>0.627</td>\n",
              "      <td>50</td>\n",
              "      <td>1</td>\n",
              "    </tr>\n",
              "    <tr>\n",
              "      <th>1</th>\n",
              "      <td>1</td>\n",
              "      <td>85</td>\n",
              "      <td>66</td>\n",
              "      <td>29</td>\n",
              "      <td>0</td>\n",
              "      <td>26.6</td>\n",
              "      <td>0.351</td>\n",
              "      <td>31</td>\n",
              "      <td>0</td>\n",
              "    </tr>\n",
              "    <tr>\n",
              "      <th>2</th>\n",
              "      <td>8</td>\n",
              "      <td>183</td>\n",
              "      <td>64</td>\n",
              "      <td>0</td>\n",
              "      <td>0</td>\n",
              "      <td>23.3</td>\n",
              "      <td>0.672</td>\n",
              "      <td>32</td>\n",
              "      <td>1</td>\n",
              "    </tr>\n",
              "    <tr>\n",
              "      <th>3</th>\n",
              "      <td>1</td>\n",
              "      <td>89</td>\n",
              "      <td>66</td>\n",
              "      <td>23</td>\n",
              "      <td>94</td>\n",
              "      <td>28.1</td>\n",
              "      <td>0.167</td>\n",
              "      <td>21</td>\n",
              "      <td>0</td>\n",
              "    </tr>\n",
              "  </tbody>\n",
              "</table>\n",
              "</div>"
            ],
            "text/plain": [
              "   pregnancies  glucose  diastolic  triceps  ...   bmi    dpf  age  diabetes\n",
              "0            6      148         72       35  ...  33.6  0.627   50         1\n",
              "1            1       85         66       29  ...  26.6  0.351   31         0\n",
              "2            8      183         64        0  ...  23.3  0.672   32         1\n",
              "3            1       89         66       23  ...  28.1  0.167   21         0\n",
              "\n",
              "[4 rows x 9 columns]"
            ]
          },
          "metadata": {
            "tags": []
          },
          "execution_count": 152
        }
      ]
    },
    {
      "cell_type": "code",
      "metadata": {
        "id": "OEzAQfmPGK-5",
        "colab_type": "code",
        "outputId": "61399843-87e1-4caf-a0bd-94b4e27aa365",
        "colab": {
          "base_uri": "https://localhost:8080/",
          "height": 302
        }
      },
      "source": [
        "# Printing the types of data in the dataset \n",
        "print(diabetes_data.info())"
      ],
      "execution_count": 153,
      "outputs": [
        {
          "output_type": "stream",
          "text": [
            "<class 'pandas.core.frame.DataFrame'>\n",
            "RangeIndex: 768 entries, 0 to 767\n",
            "Data columns (total 9 columns):\n",
            " #   Column       Non-Null Count  Dtype  \n",
            "---  ------       --------------  -----  \n",
            " 0   pregnancies  768 non-null    int64  \n",
            " 1   glucose      768 non-null    int64  \n",
            " 2   diastolic    768 non-null    int64  \n",
            " 3   triceps      768 non-null    int64  \n",
            " 4   insulin      768 non-null    int64  \n",
            " 5   bmi          768 non-null    float64\n",
            " 6   dpf          768 non-null    float64\n",
            " 7   age          768 non-null    int64  \n",
            " 8   diabetes     768 non-null    int64  \n",
            "dtypes: float64(2), int64(7)\n",
            "memory usage: 54.1 KB\n",
            "None\n"
          ],
          "name": "stdout"
        }
      ]
    },
    {
      "cell_type": "code",
      "metadata": {
        "id": "BcTHB-P2H80v",
        "colab_type": "code",
        "outputId": "58ea6cf7-b7d8-473f-b669-54a6f565b54a",
        "colab": {
          "base_uri": "https://localhost:8080/",
          "height": 185
        }
      },
      "source": [
        "# Checking for missing values\n",
        "print(diabetes_data.isna().sum())"
      ],
      "execution_count": 154,
      "outputs": [
        {
          "output_type": "stream",
          "text": [
            "pregnancies    0\n",
            "glucose        0\n",
            "diastolic      0\n",
            "triceps        0\n",
            "insulin        0\n",
            "bmi            0\n",
            "dpf            0\n",
            "age            0\n",
            "diabetes       0\n",
            "dtype: int64\n"
          ],
          "name": "stdout"
        }
      ]
    },
    {
      "cell_type": "code",
      "metadata": {
        "id": "XICM8tUOIAxa",
        "colab_type": "code",
        "outputId": "1978e567-2614-4c98-8bfc-a5b207d13b7a",
        "colab": {
          "base_uri": "https://localhost:8080/",
          "height": 67
        }
      },
      "source": [
        "#checking for diabetic patients\n",
        "diabetes_data.diabetes.value_counts()"
      ],
      "execution_count": 155,
      "outputs": [
        {
          "output_type": "execute_result",
          "data": {
            "text/plain": [
              "0    500\n",
              "1    268\n",
              "Name: diabetes, dtype: int64"
            ]
          },
          "metadata": {
            "tags": []
          },
          "execution_count": 155
        }
      ]
    },
    {
      "cell_type": "code",
      "metadata": {
        "id": "u6qU997XILXW",
        "colab_type": "code",
        "outputId": "3722af9f-4910-483d-86cc-d1ea4efcfa21",
        "colab": {
          "base_uri": "https://localhost:8080/",
          "height": 279
        }
      },
      "source": [
        "# Plotting the value counts in Customer_Segment\n",
        "sns.countplot(diabetes_data['diabetes'], palette='Set1' )\n",
        "plt.show()"
      ],
      "execution_count": 156,
      "outputs": [
        {
          "output_type": "display_data",
          "data": {
            "image/png": "[encoded data removed]",
            "text/plain": [
              "<Figure size 432x288 with 1 Axes>"
            ]
          },
          "metadata": {
            "tags": [],
            "needs_background": "light"
          }
        }
      ]
    },
    {
      "cell_type": "code",
      "metadata": {
        "id": "yK62pTvMKUYv",
        "colab_type": "code",
        "outputId": "ecabcdde-d7b5-499d-e458-d07984cc628a",
        "colab": {
          "base_uri": "https://localhost:8080/",
          "height": 884
        }
      },
      "source": [
        "diabetes_data.hist(figsize= [12,12])"
      ],
      "execution_count": 157,
      "outputs": [
        {
          "output_type": "execute_result",
          "data": {
            "text/plain": [
              "array([[<matplotlib.axes._subplots.AxesSubplot object at 0x7f7a3c672ac8>,\n",
              "        <matplotlib.axes._subplots.AxesSubplot object at 0x7f7a3c5337f0>,\n",
              "        <matplotlib.axes._subplots.AxesSubplot object at 0x7f7a3c562a58>],\n",
              "       [<matplotlib.axes._subplots.AxesSubplot object at 0x7f7a3c514cc0>,\n",
              "        <matplotlib.axes._subplots.AxesSubplot object at 0x7f7a3c4c6f28>,\n",
              "        <matplotlib.axes._subplots.AxesSubplot object at 0x7f7a3c4861d0>],\n",
              "       [<matplotlib.axes._subplots.AxesSubplot object at 0x7f7a3c439438>,\n",
              "        <matplotlib.axes._subplots.AxesSubplot object at 0x7f7a3c46d668>,\n",
              "        <matplotlib.axes._subplots.AxesSubplot object at 0x7f7a3c46d6d8>]],\n",
              "      dtype=object)"
            ]
          },
          "metadata": {
            "tags": []
          },
          "execution_count": 157
        },
        {
          "output_type": "display_data",
          "data": {
            "image/png": "[encoded data removed]",
            "text/plain": [
              "<Figure size 864x864 with 9 Axes>"
            ]
          },
          "metadata": {
            "tags": [],
            "needs_background": "light"
          }
        }
      ]
    },
    {
      "cell_type": "code",
      "metadata": {
        "id": "icX7sEuQKd63",
        "colab_type": "code",
        "outputId": "6ff6c0db-cad4-4319-be66-01c2ca04db7f",
        "colab": {
          "base_uri": "https://localhost:8080/",
          "height": 596
        }
      },
      "source": [
        "# Visualizing the correlation matrix \n",
        "plt.figure(figsize=(15,10))\n",
        "mask = np.zeros_like(diabetes_data.corr(), dtype=np.bool)\n",
        "mask[np.triu_indices_from(mask)] = True\n",
        "sns.heatmap(diabetes_data.corr(), \n",
        "            vmin = -1,\n",
        "            cmap='coolwarm',\n",
        "            annot=True,\n",
        "            mask=mask\n",
        "            )\n",
        "# plt.savefig('corr-matrix.png')\n",
        "plt.show()"
      ],
      "execution_count": 158,
      "outputs": [
        {
          "output_type": "display_data",
          "data": {
            "image/png": "[encoded data removed]",
            "text/plain": [
              "<Figure size 1080x720 with 2 Axes>"
            ]
          },
          "metadata": {
            "tags": [],
            "needs_background": "light"
          }
        }
      ]
    },
    {
      "cell_type": "code",
      "metadata": {
        "id": "pApyW-cD_KLr",
        "colab_type": "code",
        "colab": {}
      },
      "source": [
        "# separate the labels and the features - method 1 \n",
        "# diabetes_data.shape\n",
        "labels = diabetes_data[\"diabetes\"]\n",
        "features = diabetes_data.drop([\"diabetes\"], axis= 1)\n"
      ],
      "execution_count": 0,
      "outputs": []
    },
    {
      "cell_type": "code",
      "metadata": {
        "id": "xj0vcBJMAOl5",
        "colab_type": "code",
        "colab": {}
      },
      "source": [
        "# do the scaling or normalization\n",
        "# leaving to anayse the effect normalization of accuracy later \n",
        "\n",
        "ss = StandardScaler()\n",
        "features =ss.fit_transform(features)"
      ],
      "execution_count": 0,
      "outputs": []
    },
    {
      "cell_type": "code",
      "metadata": {
        "id": "B_ZZHGUIASne",
        "colab_type": "code",
        "colab": {}
      },
      "source": [
        "# split data into X and y\n",
        "x_train, x_test, y_train,y_test=train_test_split ( features , labels, test_size = 0.20 , random_state  = 123)"
      ],
      "execution_count": 0,
      "outputs": []
    },
    {
      "cell_type": "code",
      "metadata": {
        "id": "CAjHOXdyEuM2",
        "colab_type": "code",
        "colab": {
          "base_uri": "https://localhost:8080/",
          "height": 513
        },
        "outputId": "d9b4888a-fdc3-44e4-928f-e70a4ba7a226"
      },
      "source": [
        "from xgboost import plot_tree as plot_tree\n",
        "xgb_clf= xgb.XGBClassifier(learning_rate= 0.1)\n",
        "\n",
        "xgb_clf.fit (x_train,y_train)\n",
        "plot_tree(xgb_clf , num_trees= 3, rankdir= 'LR' )\n",
        "fig = plt.gcf() # to solve low resolution problem ##gcf = get current figure\n",
        "fig.set_size_inches(20, 20) # # to solve low resolution problem\n",
        "plt.show()"
      ],
      "execution_count": 178,
      "outputs": [
        {
          "output_type": "display_data",
          "data": {
            "image/png": "[encoded data removed]",
            "text/plain": [
              "<Figure size 1440x1440 with 1 Axes>"
            ]
          },
          "metadata": {
            "tags": [],
            "needs_background": "light"
          }
        }
      ]
    },
    {
      "cell_type": "code",
      "metadata": {
        "id": "SBcoB-z5FlRv",
        "colab_type": "code",
        "colab": {
          "base_uri": "https://localhost:8080/",
          "height": 34
        },
        "outputId": "6cbd5862-4029-49b3-96aa-accec1400487"
      },
      "source": [
        "pre_dict=xgb_clf.predict(x_train)\n",
        "accuracy_pre = accuracy_score(y_train, pre_dict)\n",
        "print(np.round(accuracy_pre*100, 2), '%')"
      ],
      "execution_count": 179,
      "outputs": [
        {
          "output_type": "stream",
          "text": [
            "88.76 %\n"
          ],
          "name": "stdout"
        }
      ]
    },
    {
      "cell_type": "code",
      "metadata": {
        "id": "YErBPnzRHT0p",
        "colab_type": "code",
        "colab": {
          "base_uri": "https://localhost:8080/",
          "height": 34
        },
        "outputId": "30c4fcdf-bcff-4ee4-9a11-1e03328de063"
      },
      "source": [
        "pre_dict=xgb_clf.predict(x_test)\n",
        "accuracy_pre = accuracy_score(y_test, pre_dict)\n",
        "print(np.round(accuracy_pre*100, 2), '%')"
      ],
      "execution_count": 180,
      "outputs": [
        {
          "output_type": "stream",
          "text": [
            "78.57 %\n"
          ],
          "name": "stdout"
        }
      ]
    },
    {
      "cell_type": "code",
      "metadata": {
        "id": "kM4yd2wZNtKf",
        "colab_type": "code",
        "colab": {
          "base_uri": "https://localhost:8080/",
          "height": 218
        },
        "outputId": "56cb28bf-d2c3-4d9d-ef1f-6255ee263cec"
      },
      "source": [
        " print (confusion_matrix (y_test, pre_dict)) \n",
        "\n",
        "print ('-' *60)\n",
        "\n",
        "print(classification_report(y_test , pre_dict))\n",
        "\n",
        "\n",
        "\n"
      ],
      "execution_count": 190,
      "outputs": [
        {
          "output_type": "stream",
          "text": [
            "[[79 17]\n",
            " [16 42]]\n",
            "------------------------------------------------------------\n",
            "              precision    recall  f1-score   support\n",
            "\n",
            "           0       0.83      0.82      0.83        96\n",
            "           1       0.71      0.72      0.72        58\n",
            "\n",
            "    accuracy                           0.79       154\n",
            "   macro avg       0.77      0.77      0.77       154\n",
            "weighted avg       0.79      0.79      0.79       154\n",
            "\n"
          ],
          "name": "stdout"
        }
      ]
    },
    {
      "cell_type": "markdown",
      "metadata": {
        "id": "G1Qm3IlbRb4S",
        "colab_type": "text"
      },
      "source": [
        "# Demystifying classification report"
      ]
    },
    {
      "cell_type": "markdown",
      "metadata": {
        "id": "0LJ_iHspRfEe",
        "colab_type": "text"
      },
      "source": [
        "* Accuracy = $\\frac{TP + TN}{TP + TN + FP + FN}$\n",
        "\n",
        "* Precision = $\\frac{TP}{TP + FP}$\n",
        "\n",
        "* Recall = $\\frac{TP}{TP + FN}$\n",
        "\n",
        "* f1-score = $\\frac{2 * Recall * Precision}{Recall + Precision}$"
      ]
    },
    {
      "cell_type": "markdown",
      "metadata": {
        "id": "spJ-qaGoRj6s",
        "colab_type": "text"
      },
      "source": [
        "---\n",
        "### Plotting an ROC curve\n",
        "----\n",
        "A Receiver Operating Characteristic (ROC) curve is a graph with the x-axis values as the **False Positive Rate** (FPR) and the y-axis values as the **True Positive Rate** (TPR). The Area Under the Curve (AUC) for the ROC represents how capable a model is at correctly classifying a sample. \n",
        "\n",
        "* True Positive Rate = True Positives / (True Positives + False Negatives)\n",
        "* False Positive Rate = False Positives / (False Positives + True Negatives)\n",
        "\n",
        "References: \n",
        "\n",
        "* https://kite.com/python/answers/how-to-plot-an-roc-curve-in-python \n",
        "* https://machinelearningmastery.com/roc-curves-and-precision-recall-curves-for-classification-in-python/ "
      ]
    },
    {
      "cell_type": "code",
      "metadata": {
        "id": "M94ta_JMS7dH",
        "colab_type": "code",
        "colab": {
          "base_uri": "https://localhost:8080/",
          "height": 295
        },
        "outputId": "02743d04-97d5-4f07-8b20-9cb4980aae7b"
      },
      "source": [
        "from sklearn.metrics import roc_curve  \n",
        "probs = xgb_clf.predict_proba(x_test)  \n",
        "probs = probs[:, 1]  \n",
        "fper, tper, thresholds = roc_curve(y_test, probs) \n",
        "plt.plot(fper, tper)\n",
        "plt.plot([0,1], [0,1], 'k--')\n",
        "plt.xlabel('False Positive Rate')\n",
        "plt.ylabel('True Positive Rate')\n",
        "plt.title('XGBoost ROC curve')\n",
        "# show the plot\n",
        "plt.show()"
      ],
      "execution_count": 192,
      "outputs": [
        {
          "output_type": "display_data",
          "data": {
            "image/png": "[encoded data removed]",
            "text/plain": [
              "<Figure size 432x288 with 1 Axes>"
            ]
          },
          "metadata": {
            "tags": [],
            "needs_background": "light"
          }
        }
      ]
    }
  ]
}